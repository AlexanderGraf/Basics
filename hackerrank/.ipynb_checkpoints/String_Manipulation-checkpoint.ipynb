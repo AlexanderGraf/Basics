{
 "cells": [
  {
   "cell_type": "markdown",
   "metadata": {},
   "source": [
    "# String Manipulation"
   ]
  },
  {
   "cell_type": "markdown",
   "metadata": {},
   "source": [
    "# Making Anagrams"
   ]
  },
  {
   "cell_type": "raw",
   "metadata": {},
   "source": [
    "A student is taking a cryptography class and has found anagrams to be very useful. Two strings are anagrams of each other if the first string's letters can be rearranged to form the second string. In other words, both strings must contain the same exact letters in the same exact frequency. For example, bacdc and dcbac are anagrams, but bacdc and dcbad are not.\n",
    "\n",
    "The student decides on an encryption scheme that involves two large strings. The encryption is dependent on the minimum number of character deletions required to make the two strings anagrams. Determine this number.\n",
    "\n",
    "Given two strings, \"a\" and \"b\", that may or may not be of the same length, determine the minimum number of character deletions required to make \"a\" and \"b\" anagrams. Any characters can be deleted from either of the strings. "
   ]
  },
  {
   "cell_type": "raw",
   "metadata": {},
   "source": [
    "input : 2 strings (lowercase english letters only)\n",
    "output: count of deletions required to make them an anagram of eachother"
   ]
  },
  {
   "cell_type": "code",
   "execution_count": null,
   "metadata": {},
   "outputs": [],
   "source": [
    "Thoughts:\n",
    "- make dict of each\n",
    "- identify differences (in key (letter) and value (count)) and count them\n",
    "\n",
    "- will there always be an anagram?"
   ]
  },
  {
   "cell_type": "code",
   "execution_count": 2,
   "metadata": {},
   "outputs": [],
   "source": [
    "from collections import Counter"
   ]
  },
  {
   "cell_type": "code",
   "execution_count": 63,
   "metadata": {},
   "outputs": [],
   "source": [
    "def remove_bad_keys(c, matched_keys, deletion_count):\n",
    "    for i in list(c.items()):\n",
    "        if i[0] not in matched_keys:\n",
    "            deletion_count+=i[1]\n",
    "            del c[i[0]] \n",
    "    return c, deletion_count\n",
    "\n",
    "def remove_by_value(a_counts, deletion_count):\n",
    "    for i in list(a_counts.items()):\n",
    "        if i[1]%2 != 0: # odd count of letter (removing one makes it even)\n",
    "            deletion_count+=1\n",
    "    return deletion_count\n",
    "\n",
    "def makeAnagram(a, b):\n",
    "    # initialize the quantity of interest\n",
    "    deletion_count = 0\n",
    "    a_counts = Counter(a)\n",
    "    b_counts = Counter(b)\n",
    "    if a_counts == b_counts:\n",
    "        return deletion_count\n",
    "    \n",
    "    # if there are keys that are different sum the values and in incorporate into deletion_count\n",
    "    matched_keys = set(a_counts.keys()).intersection(b_counts.keys())\n",
    "    a_counts, deletion_count = remove_bad_keys(a_counts, matched_keys, deletion_count)\n",
    "    b_counts, deletion_count = remove_bad_keys(b_counts, matched_keys, deletion_count)\n",
    "    \n",
    "    # if equal then return\n",
    "    if a_counts == b_counts:\n",
    "        return deletion_count\n",
    "    \n",
    "    # pool them and make sure there is an even number of each\n",
    "    a_counts.update(b_counts)\n",
    "    deletion_count = remove_by_value(a_counts, deletion_count)\n",
    "    \n",
    "    return deletion_count"
   ]
  },
  {
   "cell_type": "code",
   "execution_count": 64,
   "metadata": {},
   "outputs": [
    {
     "data": {
      "text/plain": [
       "5"
      ]
     },
     "execution_count": 64,
     "metadata": {},
     "output_type": "execute_result"
    }
   ],
   "source": [
    "a = \"cdec\"\n",
    "b = \"abc\"\n",
    "makeAnagram(a,b)"
   ]
  },
  {
   "cell_type": "code",
   "execution_count": 68,
   "metadata": {},
   "outputs": [],
   "source": [
    "# The above brute force approach is too slow or there are many corner cases - foudn the below - same idea as above except use the built in \"subtract\""
   ]
  },
  {
   "cell_type": "code",
   "execution_count": 66,
   "metadata": {},
   "outputs": [],
   "source": [
    "def makeAnagram(a, b):\n",
    "    ct_a = Counter(a)\n",
    "    ct_b = Counter(b)\n",
    "    ct_a.subtract(ct_b)\n",
    "    return sum(abs(i) for i in ct_a.values())"
   ]
  },
  {
   "cell_type": "code",
   "execution_count": 72,
   "metadata": {},
   "outputs": [],
   "source": [
    "# another solution not using Counter\n",
    "def makeAnagram(str1, str2):\n",
    "    \n",
    "    dict_chars = dict()\n",
    "    # count in str1\n",
    "    for char in str1:\n",
    "        if char in dict_chars:\n",
    "            dict_chars[char] += 1\n",
    "        else:\n",
    "            dict_chars[char] = 1\n",
    "            \n",
    "    # remove from above based on str2\n",
    "    for char in str2:\n",
    "        if char in dict_chars:\n",
    "            dict_chars[char] -= 1\n",
    "        else:\n",
    "            dict_chars[char] = -1\n",
    "    \n",
    "    # absolute aggregate what is left\n",
    "    sum_diff = 0\n",
    "    for char in dict_chars.keys():\n",
    "        sum_diff += abs(dict_chars[char])\n",
    "        \n",
    "    return sum_diff"
   ]
  },
  {
   "cell_type": "code",
   "execution_count": 73,
   "metadata": {},
   "outputs": [
    {
     "data": {
      "text/plain": [
       "5"
      ]
     },
     "execution_count": 73,
     "metadata": {},
     "output_type": "execute_result"
    }
   ],
   "source": [
    "a = \"cdec\"\n",
    "b = \"abc\"\n",
    "makeAnagram(a,b)"
   ]
  },
  {
   "cell_type": "markdown",
   "metadata": {},
   "source": [
    "# Alternating Characters"
   ]
  },
  {
   "cell_type": "raw",
   "metadata": {},
   "source": [
    "You are given a string containing characters \"A\" and \"B\" only. Your task is to change it into a string such that there are no matching adjacent characters. To do this, you are allowed to delete zero or more characters in the string.\n",
    "\n",
    "Your task is to find the minimum number of required deletions."
   ]
  },
  {
   "cell_type": "markdown",
   "metadata": {},
   "source": [
    "input : string of A and B - e.g. AABABABBA\n",
    "output: count of letters removed to conform\n",
    "    \n",
    "constraint: length of the string could be 1e5"
   ]
  },
  {
   "cell_type": "code",
   "execution_count": 103,
   "metadata": {},
   "outputs": [],
   "source": [
    "def zero_counter(s):\n",
    "    count = 0\n",
    "    for i in s[1:]:\n",
    "        if i == 0 :\n",
    "            count+=1\n",
    "    return count\n",
    "            \n",
    "def alternatingCharacters(s):\n",
    "    # replace A with 1 and B with 2\n",
    "    s = [ord(x) for x in s]\n",
    "    d = [0]*len(s)\n",
    "    for i in range(len(s)):\n",
    "        d[i] = s[i]-s[i-1]\n",
    "\n",
    "    # count the zeros\n",
    "    count = zero_counter(d)\n",
    "    \n",
    "    return count"
   ]
  },
  {
   "cell_type": "code",
   "execution_count": 104,
   "metadata": {},
   "outputs": [
    {
     "data": {
      "text/plain": [
       "2"
      ]
     },
     "execution_count": 104,
     "metadata": {},
     "output_type": "execute_result"
    }
   ],
   "source": [
    "s = \"AABABAA\"\n",
    "alternatingCharacters(s)"
   ]
  },
  {
   "cell_type": "markdown",
   "metadata": {},
   "source": [
    "# Sherlock and the Valid String"
   ]
  },
  {
   "cell_type": "raw",
   "metadata": {},
   "source": [
    "Sherlock considers a string to be valid if all characters of the string appear the same number of times. It is also valid if he can remove just 1 character at 1 index in the string, and the remaining characters will occur the same number of times. Given a string \"s\", determine if it is valid. If so, return YES, otherwise return NO.\n",
    "\n",
    "APparently you can also remove every occurence of a character??? so 'a':2, 'b':2, 'd':8\n",
    "!! cases where you can remove 1 to get zero counts... removing it completely."
   ]
  },
  {
   "cell_type": "raw",
   "metadata": {},
   "source": [
    "Thoughts:\n",
    "- use Counter\n",
    "- check if all values are the same or if there is just one that is different by 1\n",
    "- I need the number of differences and the magnitude of each - if 2 differences are found OR a difference of more than 1 then quit early"
   ]
  },
  {
   "cell_type": "code",
   "execution_count": 121,
   "metadata": {},
   "outputs": [],
   "source": [
    "s = \"abcdefghhgfedecba\" # YES\n",
    "s = \"aabbccddeefghi\" # NO\n",
    "s = \"aabbcd\""
   ]
  },
  {
   "cell_type": "code",
   "execution_count": 110,
   "metadata": {},
   "outputs": [],
   "source": [
    "def isValid(s):\n",
    "    d = Counter(s)\n",
    "    print(d)"
   ]
  },
  {
   "cell_type": "code",
   "execution_count": 111,
   "metadata": {},
   "outputs": [
    {
     "name": "stdout",
     "output_type": "stream",
     "text": [
      "Counter({'a': 2, 'b': 2, 'c': 2, 'd': 2, 'e': 2, 'f': 1, 'g': 1, 'h': 1, 'i': 1})\n"
     ]
    }
   ],
   "source": [
    "isValid(s)"
   ]
  },
  {
   "cell_type": "code",
   "execution_count": 131,
   "metadata": {},
   "outputs": [],
   "source": [
    "def isValid(s):\n",
    "    string = Counter(s)\n",
    "    string = Counter(string.values())\n",
    "    if len(string.keys())==1:\n",
    "        result = \"YES\"\n",
    "    elif len(string.values())==2:\n",
    "        key1,key2=string.keys()\n",
    "        # one of string[key1] or string[key1] must be == 1 else there are \n",
    "        # too many deletions (spread over multiple letters)\n",
    "        if string[key1]==1 and (key1-1==key2 or key1-1==0):\n",
    "            print('here')\n",
    "            result = \"YES\"\n",
    "        elif string[key2]==1 and (key2-1==key1 or key2-1==0):\n",
    "            result = \"YES\"\n",
    "        else:\n",
    "            result = \"NO\"\n",
    "\n",
    "    else:\n",
    "        result = \"NO\"\n",
    "    return result"
   ]
  },
  {
   "cell_type": "code",
   "execution_count": 130,
   "metadata": {},
   "outputs": [
    {
     "name": "stdout",
     "output_type": "stream",
     "text": [
      "Counter({'a': 2, 'b': 2, 'c': 1, 'd': 1})\n",
      "Counter({2: 2, 1: 2})\n"
     ]
    },
    {
     "data": {
      "text/plain": [
       "'NO'"
      ]
     },
     "execution_count": 130,
     "metadata": {},
     "output_type": "execute_result"
    }
   ],
   "source": [
    "isValid(s)"
   ]
  },
  {
   "cell_type": "markdown",
   "metadata": {},
   "source": [
    "# Special String Again"
   ]
  },
  {
   "cell_type": "raw",
   "metadata": {},
   "source": [
    "A string is said to be a special string if either of two conditions is met:\n",
    "\n",
    "   * All of the characters are the same, e.g. aaa.\n",
    "   * All characters except the middle one are the same, e.g. aadaa.\n",
    "\n",
    "A special substring is any substring of a string which meets one of those criteria. Given a string, determine how many special substrings can be formed from it.\n",
    "\n",
    "For example, given the string \"s\" = \"mnonopoo\", we have the following special substrings:\n",
    "{\"m\",\"n\",\"o\",\"n\",\"o\",\"p\",\"o\",\"o\",\"non\",\"ono\",\"opo\",\"oo\"}\n",
    "\n",
    "Function Description\n",
    "\n",
    "Complete the substrCount function in the editor below. It should return an integer representing the number of special substrings that can be formed from the given string.\n",
    "\n",
    "substrCount has the following parameter(s):\n",
    "\n",
    "   * n: an integer, the length of string s\n",
    "   * s: a string\n",
    "\n",
    "include the letters themselves.\n",
    "a substring must be consecutive letters"
   ]
  },
  {
   "cell_type": "code",
   "execution_count": 193,
   "metadata": {},
   "outputs": [],
   "source": [
    "def isSpecial(ss):\n",
    "    # all characters are the same\n",
    "    # all characters except the middle are the same\n",
    "\n",
    "    # if only one element long\n",
    "    if len(ss) == 1:\n",
    "        return True\n",
    "    \n",
    "    # all letters are the same\n",
    "    if ss == len(ss) * ss[0]:\n",
    "        return True\n",
    "            \n",
    "    # if all the same except the middle (so odd length)\n",
    "    if len(ss)%2!=0:\n",
    "        pivot = len(ss)//2\n",
    "        left_val  = ss[:pivot] \n",
    "        right_val = ss[pivot+1:]\n",
    "        pivot_val = ss[pivot]\n",
    "        if left_val == right_val and pivot_val != left_val[0]:\n",
    "            return True\n",
    "    \n",
    "    return False\n",
    "\n",
    "def create_substrings(s):\n",
    "    '''Given a string create and store all substrings'''\n",
    "    allsubstrings = []\n",
    "    for i in range(len(s)):\n",
    "        for j in range(i+1,len(s)+1):\n",
    "            allsubstrings.append(s[i:j])\n",
    "    return allsubstrings\n",
    "\n",
    "def substrCount(n, s):\n",
    "    # if s is only one element\n",
    "    if len(s) == 1:\n",
    "        return 1\n",
    "    \n",
    "    count = 0\n",
    "    substrings = create_substrings(s)\n",
    "    for i in substrings:\n",
    "        if isSpecial(i):\n",
    "            count+=1\n",
    "            \n",
    "    return count"
   ]
  },
  {
   "cell_type": "code",
   "execution_count": 196,
   "metadata": {},
   "outputs": [
    {
     "data": {
      "text/plain": [
       "10"
      ]
     },
     "execution_count": 196,
     "metadata": {},
     "output_type": "execute_result"
    }
   ],
   "source": [
    "s = \"abcbaba\"\n",
    "s = \"aaaa\"\n",
    "n = len(s)\n",
    "substrCount(n,s)"
   ]
  },
  {
   "cell_type": "code",
   "execution_count": 207,
   "metadata": {},
   "outputs": [],
   "source": [
    "# The above does not pass all test cases... below does but what is the difference? - \n",
    "# double loop of making all substrings"
   ]
  },
  {
   "cell_type": "code",
   "execution_count": 219,
   "metadata": {},
   "outputs": [],
   "source": [
    "def substrCount(n, s):\n",
    "    tot = 0\n",
    "    count_sequence = 0\n",
    "    prev = ''\n",
    "    for i,v in enumerate(s):\n",
    "        # first increase counter for all seperate characters\n",
    "        count_sequence += 1\n",
    "        if i and (prev != v):\n",
    "            # if this is not the first char in the string \n",
    "            # and it is not same as previous char, \n",
    "            # we should check for sequence x.x, xx.xx, xxx.xxx etc\n",
    "            # and we know it cant be longer on the right side than\n",
    "            # the sequence we already found on the left side.\n",
    "            j = 1\n",
    "            while ((i-j) >= 0) and ((i+j) < len(s)) and j <= count_sequence:\n",
    "                # make sure the chars to the right and left are equal\n",
    "                # to the char in the previous found squence\n",
    "\n",
    "                if s[i-j] == prev == s[i+j]:\n",
    "                    # if so increase total score and step one step further out\n",
    "                    tot += 1\n",
    "                    j += 1\n",
    "                else:\n",
    "                    # no need to loop any further if this loop did \n",
    "                    # not find an x.x  pattern\n",
    "                    break\n",
    "            #if the current char is different from previous, reset counter to 1\n",
    "            count_sequence = 1  \n",
    "        tot += count_sequence            \n",
    "        prev = v\n",
    "    return tot    "
   ]
  },
  {
   "cell_type": "code",
   "execution_count": 220,
   "metadata": {},
   "outputs": [
    {
     "name": "stdout",
     "output_type": "stream",
     "text": [
      "b c\n",
      "b a\n",
      "a b\n"
     ]
    },
    {
     "data": {
      "text/plain": [
       "10"
      ]
     },
     "execution_count": 220,
     "metadata": {},
     "output_type": "execute_result"
    }
   ],
   "source": [
    "s = \"abcbaba\"\n",
    "#s = \"aaaa\"\n",
    "n = len(s)\n",
    "substrCount(n,s)"
   ]
  },
  {
   "cell_type": "markdown",
   "metadata": {},
   "source": [
    "# Common Child"
   ]
  },
  {
   "cell_type": "raw",
   "metadata": {},
   "source": [
    "A string is said to be a child of a another string if it can be formed by deleting 0 or more characters from the other string. Given two strings of equal length, what's the longest string that can be constructed such that it is a child of both?\n",
    "\n",
    "For example, ABCD and ABDC have two children with maximum length 3, ABC and ABD. They can be formed by eliminating either the D or C from both strings. Note that we will not consider ABCD as a common child because we can't rearrange characters and ABCD != ABDC. "
   ]
  },
  {
   "cell_type": "raw",
   "metadata": {},
   "source": [
    "Thoughts:\n",
    "- all substrings of shortest string, then look for them all (with deletion option) in the other, keep track of the biggest one"
   ]
  },
  {
   "cell_type": "code",
   "execution_count": null,
   "metadata": {},
   "outputs": [],
   "source": [
    "Constraints:\n",
    "- strings can be from 1 to 5000 characters in length"
   ]
  },
  {
   "cell_type": "code",
   "execution_count": 234,
   "metadata": {},
   "outputs": [],
   "source": [
    "def commonChild(s,r):\n",
    "    m = len(s)\n",
    "    n = len(r)\n",
    "    mx = max(m,n)\n",
    "    matrix = [[0]*(mx+1) for i in range(mx+1)] # 5001 by 5001 matrix\n",
    "    for i in range(0,m):\n",
    "        for j in range(0,n):\n",
    "            if(s[i]==r[j]):\n",
    "                matrix[i+1][j+1] = matrix[i][j]+1\n",
    "            else:\n",
    "                matrix[i+1][j+1] = max(matrix[i+1][j],matrix[i][j+1])\n",
    "    print(matrix)\n",
    "    return matrix[m][n]"
   ]
  },
  {
   "cell_type": "code",
   "execution_count": 236,
   "metadata": {},
   "outputs": [
    {
     "name": "stdout",
     "output_type": "stream",
     "text": [
      "[[0, 0, 0, 0, 0, 0], [0, 0, 0, 0, 0, 0], [0, 0, 1, 1, 1, 1], [0, 0, 1, 1, 1, 1], [0, 0, 1, 1, 1, 1], [0, 0, 1, 1, 1, 2]]\n"
     ]
    },
    {
     "data": {
      "text/plain": [
       "2"
      ]
     },
     "execution_count": 236,
     "metadata": {},
     "output_type": "execute_result"
    }
   ],
   "source": [
    "s = \"HARRY\"\n",
    "r = \"SALLY\"\n",
    "commonChild(r,s)"
   ]
  },
  {
   "cell_type": "raw",
   "metadata": {},
   "source": [
    "The above worked but it could be improved by using only part of matrix rather than the whole. Although the difference would be minimal I think compared to the max of 5000x5000 elements"
   ]
  },
  {
   "cell_type": "code",
   "execution_count": null,
   "metadata": {},
   "outputs": [],
   "source": []
  }
 ],
 "metadata": {
  "kernelspec": {
   "display_name": "Python 3",
   "language": "python",
   "name": "python3"
  },
  "language_info": {
   "codemirror_mode": {
    "name": "ipython",
    "version": 3
   },
   "file_extension": ".py",
   "mimetype": "text/x-python",
   "name": "python",
   "nbconvert_exporter": "python",
   "pygments_lexer": "ipython3",
   "version": "3.7.3"
  }
 },
 "nbformat": 4,
 "nbformat_minor": 4
}
