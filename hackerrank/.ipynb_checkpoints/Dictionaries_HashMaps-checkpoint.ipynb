{
 "cells": [
  {
   "cell_type": "markdown",
   "metadata": {},
   "source": [
    "# Sherlock and Anagrams (Arrays)"
   ]
  },
  {
   "cell_type": "raw",
   "metadata": {},
   "source": [
    "Two strings are anagrams of each other if the letters of one string can be rearranged to form the other \n",
    "string. Given a string, find the number of pairs of substrings of the string that are anagrams of each \n",
    "other. "
   ]
  },
  {
   "cell_type": "raw",
   "metadata": {},
   "source": [
    "input : 2+ lines - 1) the number of queries to follow as an integer. 2+) the input queries as strings called \"s\"\n",
    "output : int (the number of unordered anagrammatic pairs of substrings in \"s\")"
   ]
  },
  {
   "cell_type": "raw",
   "metadata": {},
   "source": [
    "Example input:\n",
    "2\n",
    "abba\n",
    "abcd"
   ]
  },
  {
   "cell_type": "raw",
   "metadata": {},
   "source": [
    "Example output:\n",
    "4\n",
    "0"
   ]
  },
  {
   "cell_type": "raw",
   "metadata": {},
   "source": [
    "Example gives single letters as well as inclusion / exclusion of center letter - also gives a list of \n",
    "lists for each pair found indicating the indices from the original string (not asked for but they show \n",
    "it?!) - Also center letters can be duplicated+ (cases - no center letter, single reused center letter, two center letters... there are no words with three repeated letters to worry about .. I'm guessing.\n",
    "Remember that the anagram does NOT have to be the reverse of the original only it must be composed of the same letters with the central overlap in common (if not itself)"
   ]
  },
  {
   "cell_type": "raw",
   "metadata": {},
   "source": [
    "Constraints:\n",
    "the length of each input string is 2<=|s|<=100 and only contains lowercase letters\n",
    "the number of queries q is between 1 and 10"
   ]
  },
  {
   "cell_type": "raw",
   "metadata": {},
   "source": [
    "Thoughts:\n",
    "- find and store all substrings as keys in dictionary, the value is the number of times it occurs (anything more than 1 is a \"pair\")\n",
    "- for each substring (of length 1 to len(s)) that I can make can I also find its pair? \n",
    "- how to check if their is a match?\n",
    "- keep a count of all that I find.\n",
    "\n",
    "potential methods...\n",
    "- create all substrings\n",
    "- compare all substrings and check if anagram\n",
    "- count the anagrams found\n",
    "\n",
    "Corner cases?\n",
    "- if no duplicates then no anagrams - quick return"
   ]
  },
  {
   "cell_type": "code",
   "execution_count": 194,
   "metadata": {},
   "outputs": [],
   "source": [
    "import re\n",
    "import string\n",
    "import math"
   ]
  },
  {
   "cell_type": "code",
   "execution_count": 178,
   "metadata": {},
   "outputs": [],
   "source": [
    "def SherlockAndAnagrams(s):\n",
    "    \n",
    "    # initialize the variable of interest\n",
    "    anagramcount = 0\n",
    "    \n",
    "    # check if no duplicates and if so then return 0\n",
    "    duplicates = any_duplicates(s)\n",
    "    if not duplicates: return anagramcount\n",
    "    \n",
    "    # find all substrings\n",
    "    allsubstrings = create_substrings(s)\n",
    "    \n",
    "    # enumerate all anagrams\n",
    "    for idx in range(len(allsubstrings)):\n",
    "        anagramcount+=count_anagrams(idx,allsubstrings)\n",
    "    \n",
    "    return anagramcount\n",
    "    \n",
    "def any_duplicates(s):\n",
    "    '''return True if there is at least 1 duplicate'''\n",
    "    chars = string.ascii_lowercase\n",
    "    for char in chars:\n",
    "        if s.count(char) > 1:\n",
    "            return True\n",
    "    else:\n",
    "        return False\n",
    "    \n",
    "def create_substrings(s):\n",
    "    '''Given a string create and store all substrings'''\n",
    "    allsubstrings = []\n",
    "    for i in range(len(s)):\n",
    "        for j in range(i+1,len(s)+1):\n",
    "            allsubstrings.append(s[i:j])\n",
    "    return allsubstrings\n",
    "\n",
    "def count_anagrams(idx,allsubstrings):\n",
    "    current_s = allsubstrings[idx]\n",
    "    counter = 0\n",
    "    for i in allsubstrings[idx+1:]:\n",
    "        if (len(current_s) == len(i)) and (is_anagram(current_s,i)):           \n",
    "            counter+=1\n",
    "    return counter\n",
    "\n",
    "def is_anagram(s1,s2):\n",
    "    # put each into it's own dict - key = character in string, value = count of times seen\n",
    "    # for s2 retrieve from dict until you can't\n",
    "    storage = {}\n",
    "    for char in s1:\n",
    "        if char in storage.keys():\n",
    "            storage[char]+=1\n",
    "        else:\n",
    "            storage[char] = 1\n",
    "    for char in s2:\n",
    "        if char in storage.keys() and storage[char]>0:\n",
    "            storage[char]-=1\n",
    "        else:\n",
    "            return False\n",
    "    return True"
   ]
  },
  {
   "cell_type": "code",
   "execution_count": 179,
   "metadata": {},
   "outputs": [
    {
     "data": {
      "text/plain": [
       "3"
      ]
     },
     "execution_count": 179,
     "metadata": {},
     "output_type": "execute_result"
    }
   ],
   "source": [
    "s = \"ifailuhkqq\"\n",
    "SherlockAndAnagrams(s)"
   ]
  },
  {
   "cell_type": "code",
   "execution_count": 139,
   "metadata": {},
   "outputs": [],
   "source": [
    "# The above works but it is too slow\n",
    "# we could add words to dict, sort each and count. Any with a count > 1 is an anagram\n",
    "# the challenge will be cases like \"kkkk\" where each k is independent - will use a choose 2 to \n",
    "# get all combos"
   ]
  },
  {
   "cell_type": "code",
   "execution_count": 199,
   "metadata": {},
   "outputs": [],
   "source": [
    "def SherlockAndAnagrams(s):\n",
    "    \n",
    "    # initialize the variable of interest\n",
    "    anagramcount = 0\n",
    "    \n",
    "    # check if no duplicates and if so then return 0\n",
    "    duplicates = any_duplicates(s)\n",
    "    if not duplicates: return anagramcount\n",
    "    \n",
    "    # find all substrings\n",
    "    allsubstrings = create_substrings(s)\n",
    "\n",
    "    # count how many\n",
    "    print(list(allsubstrings.items()))\n",
    "    for i in allsubstrings.items():\n",
    "        if i[1]>1:\n",
    "            anagramcount+=math.factorial(i[1])/math.factorial(i[1]-2)/2 # choose 2\n",
    "    \n",
    "    return anagramcount\n",
    "\n",
    "def create_substrings(s):\n",
    "    '''Given a string create and store all substrings'''\n",
    "    allsubstrings = {}\n",
    "    for i in range(len(s)):\n",
    "        for j in range(i+1,len(s)+1):\n",
    "            val = (\"\").join(sorted(s[i:j]))\n",
    "            if val in list(allsubstrings.keys()):\n",
    "                allsubstrings[val]+=1\n",
    "            else:\n",
    "                allsubstrings[val]=1\n",
    "    return allsubstrings"
   ]
  },
  {
   "cell_type": "code",
   "execution_count": 196,
   "metadata": {},
   "outputs": [
    {
     "name": "stdout",
     "output_type": "stream",
     "text": [
      "[('a', 2), ('ab', 2), ('abb', 2), ('aabb', 1), ('b', 2), ('bb', 1)]\n"
     ]
    },
    {
     "data": {
      "text/plain": [
       "4.0"
      ]
     },
     "execution_count": 196,
     "metadata": {},
     "output_type": "execute_result"
    }
   ],
   "source": [
    "s = \"abba\"\n",
    "SherlockAndAnagrams(s)"
   ]
  },
  {
   "cell_type": "code",
   "execution_count": 197,
   "metadata": {},
   "outputs": [
    {
     "name": "stdout",
     "output_type": "stream",
     "text": [
      "[('k', 4), ('kk', 3), ('kkk', 2), ('kkkk', 1)]\n"
     ]
    },
    {
     "data": {
      "text/plain": [
       "10.0"
      ]
     },
     "execution_count": 197,
     "metadata": {},
     "output_type": "execute_result"
    }
   ],
   "source": [
    "s = \"kkkk\"\n",
    "SherlockAndAnagrams(s)"
   ]
  },
  {
   "cell_type": "markdown",
   "metadata": {},
   "source": [
    "# Array Manipulation"
   ]
  },
  {
   "cell_type": "raw",
   "metadata": {},
   "source": [
    "Starting with a 1-indexed array of zeros and a list of operations, for each operation add a value to each of the array element between two given indices, inclusive. Once all operations have been performed, return the maximum value in the array. "
   ]
  },
  {
   "cell_type": "raw",
   "metadata": {},
   "source": [
    "input : n as integer - lenght of array to manipulate\n",
    "queries : a list of lists (n elements long) - each internal list is 3 elements indicating the start index, stop index and the the value (k) indices are base 1"
   ]
  },
  {
   "cell_type": "raw",
   "metadata": {},
   "source": [
    "output : the max of the resulting list post manipulation (where manipulation here is addition only)"
   ]
  },
  {
   "cell_type": "raw",
   "metadata": {},
   "source": [
    "Thoughts: every row is adding a certain value k between the start and stop indices inclusive. Numeric overflow could be an issue."
   ]
  },
  {
   "cell_type": "code",
   "execution_count": 201,
   "metadata": {},
   "outputs": [],
   "source": [
    "# first example\n",
    "n = 5\n",
    "queries = [[1, 2, 100], [2, 5, 100], [3, 4, 100]]"
   ]
  },
  {
   "cell_type": "code",
   "execution_count": 219,
   "metadata": {},
   "outputs": [],
   "source": [
    "def arrayManipulation(n, queries):\n",
    "    # make starting list with n values (index base 0!)\n",
    "    l = [0]*n\n",
    "    \n",
    "    # loop through the queries\n",
    "    for i in queries:\n",
    "        a = i[0]-1 # base 0\n",
    "        b = i[1]-1\n",
    "        k = i[2]\n",
    "        l[a:b+1]=[x+k for x in l[a:b+1]]\n",
    "    return max(l)"
   ]
  },
  {
   "cell_type": "code",
   "execution_count": 220,
   "metadata": {},
   "outputs": [
    {
     "data": {
      "text/plain": [
       "200"
      ]
     },
     "execution_count": 220,
     "metadata": {},
     "output_type": "execute_result"
    }
   ],
   "source": [
    "arrayManipulation(n, queries)"
   ]
  },
  {
   "cell_type": "code",
   "execution_count": 206,
   "metadata": {},
   "outputs": [],
   "source": [
    "# the above solves the simplist cases... i suspect overflow issues since \n",
    "# 3<=n<=1e7 # length of main list\n",
    "# 1<=m<=2e5  # the number of operations (the number of elements in \"queries\")\n",
    "# 1<=a<=b<n (10e7) # the indices - no big deal\n",
    "# 0<=k<=1e9 # the value to add"
   ]
  },
  {
   "cell_type": "code",
   "execution_count": 209,
   "metadata": {},
   "outputs": [],
   "source": [
    "# since you can potentially have 1e7 rows of 1e9 - the summations could be as high as k*n = 1e16 (NO overflow issue)"
   ]
  },
  {
   "cell_type": "code",
   "execution_count": 208,
   "metadata": {},
   "outputs": [
    {
     "data": {
      "text/plain": [
       "1e+16"
      ]
     },
     "execution_count": 208,
     "metadata": {},
     "output_type": "execute_result"
    }
   ],
   "source": [
    "1e7*1e9"
   ]
  },
  {
   "cell_type": "code",
   "execution_count": 238,
   "metadata": {},
   "outputs": [],
   "source": [
    "# another bottleneck could be the double loop.\n",
    "# outer loop as large as 1e7\n",
    "# inner loop as large as 1e7\n",
    "# can this be done in one pass of m? - Yes"
   ]
  },
  {
   "cell_type": "code",
   "execution_count": 221,
   "metadata": {},
   "outputs": [],
   "source": [
    "from collections import Counter"
   ]
  },
  {
   "cell_type": "code",
   "execution_count": 228,
   "metadata": {},
   "outputs": [],
   "source": [
    "def arrayManipulation(n, queries):\n",
    "    c = Counter()\n",
    "    for a,b,k in queries:\n",
    "        c[a]  +=k\n",
    "        c[b+1]-=k\n",
    "\n",
    "    arrSum = 0\n",
    "    maxSum = 0\n",
    "    for i in sorted(c)[:-1]:\n",
    "        arrSum+= c[i]\n",
    "        maxSum = max(maxSum,arrSum)\n",
    "    return maxSum"
   ]
  },
  {
   "cell_type": "code",
   "execution_count": 229,
   "metadata": {},
   "outputs": [
    {
     "name": "stdout",
     "output_type": "stream",
     "text": [
      "Counter({1: 100, 3: -100})\n",
      "Counter({1: 100, 2: 100, 3: -100, 6: -100})\n",
      "Counter({1: 100, 2: 100, 3: 0, 6: -100, 5: -100})\n",
      "[1, 2, 3, 5]\n"
     ]
    },
    {
     "data": {
      "text/plain": [
       "200"
      ]
     },
     "execution_count": 229,
     "metadata": {},
     "output_type": "execute_result"
    }
   ],
   "source": [
    "arrayManipulation(n, queries)"
   ]
  },
  {
   "cell_type": "code",
   "execution_count": null,
   "metadata": {},
   "outputs": [],
   "source": []
  }
 ],
 "metadata": {
  "kernelspec": {
   "display_name": "Python 3",
   "language": "python",
   "name": "python3"
  },
  "language_info": {
   "codemirror_mode": {
    "name": "ipython",
    "version": 3
   },
   "file_extension": ".py",
   "mimetype": "text/x-python",
   "name": "python",
   "nbconvert_exporter": "python",
   "pygments_lexer": "ipython3",
   "version": "3.7.3"
  }
 },
 "nbformat": 4,
 "nbformat_minor": 4
}
