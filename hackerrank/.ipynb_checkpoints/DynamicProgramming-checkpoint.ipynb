{
 "cells": [
  {
   "cell_type": "markdown",
   "metadata": {},
   "source": [
    "# All Construct"
   ]
  },
  {
   "cell_type": "code",
   "execution_count": 234,
   "metadata": {},
   "outputs": [],
   "source": [
    "from collections import deque\n",
    "import copy\n",
    "\n",
    "def allConstruct(target, wordBank, memo={}):\n",
    "    # base cases\n",
    "    if target == '': return []\n",
    "    if target in memo: return memo[target]\n",
    "    \n",
    "    #targetWays = []\n",
    "    result = []\n",
    "    for word in wordBank:\n",
    "        if word in target and target.index(word) == 0: # word is a prefix of target\n",
    "            suffix = target[len(word):]\n",
    "            suffixWays = allConstruct(suffix,wordBank,memo)\n",
    "            targetWays = copy.deepcopy(suffixWays)\n",
    "            targetWays[:0]=[word]\n",
    "            result.append(targetWays)\n",
    "    memo[target] = result\n",
    "    return result"
   ]
  },
  {
   "cell_type": "code",
   "execution_count": 235,
   "metadata": {},
   "outputs": [
    {
     "name": "stdout",
     "output_type": "stream",
     "text": [
      "['eee', ['eee']]\n"
     ]
    }
   ],
   "source": [
    "wordBank = [\"purp\",\"p\",\"ur\",\"le\", \"purpl\"]\n",
    "target = \"purple\"\n",
    "wordBank = [\"eee\",\"eeeeeeeeee\",\"eeeeeeeeeeeeeeeeee\"]\n",
    "target = \"eeeeeef\"\n",
    "result = allConstruct(target,wordBank)\n",
    "#print(result)\n",
    "print(('\\n').join([str(x) for x in result]))"
   ]
  },
  {
   "cell_type": "code",
   "execution_count": 218,
   "metadata": {},
   "outputs": [
    {
     "name": "stdout",
     "output_type": "stream",
     "text": [
      "[['purp']]\n",
      "[['purp'], ['le']]\n"
     ]
    }
   ],
   "source": [
    "l = []\n",
    "l.append([\"purp\"])\n",
    "print(l)\n",
    "l.append([\"le\"])\n",
    "print(l)"
   ]
  },
  {
   "cell_type": "code",
   "execution_count": 217,
   "metadata": {},
   "outputs": [
    {
     "data": {
      "text/plain": [
       "0"
      ]
     },
     "execution_count": 217,
     "metadata": {},
     "output_type": "execute_result"
    }
   ],
   "source": [
    "target.index(\"purp\")"
   ]
  },
  {
   "cell_type": "code",
   "execution_count": 9,
   "metadata": {},
   "outputs": [
    {
     "data": {
      "text/plain": [
       "'le'"
      ]
     },
     "execution_count": 9,
     "metadata": {},
     "output_type": "execute_result"
    }
   ],
   "source": [
    "target[len(\"purp\"):]"
   ]
  },
  {
   "cell_type": "markdown",
   "metadata": {},
   "source": [
    "# Grid Traveler"
   ]
  },
  {
   "cell_type": "code",
   "execution_count": 293,
   "metadata": {},
   "outputs": [],
   "source": [
    "def gridTraveler(m,n):\n",
    "    ''' answers how many ways to get through an m by n grid \n",
    "    where the only acceptable moves down or right -- Using Tabulation rather than memoization'''\n",
    "    \n",
    "    grid = [[0] * (n+1) for i in range(m+1)]\n",
    "    grid[1][1] = 1\n",
    "    \n",
    "    for i in range(m+1):\n",
    "        for j in range(n+1):\n",
    "            current = grid[i][j]\n",
    "            if (j+1 < n+1): grid[i][j+1]+=current\n",
    "            if (i+1 < m+1): grid[i+1][j]+=current\n",
    "    \n",
    "    return grid[m][n]"
   ]
  },
  {
   "cell_type": "code",
   "execution_count": 295,
   "metadata": {},
   "outputs": [
    {
     "data": {
      "text/plain": [
       "2333606220"
      ]
     },
     "execution_count": 295,
     "metadata": {},
     "output_type": "execute_result"
    }
   ],
   "source": [
    "gridTraveler(18,18)"
   ]
  },
  {
   "cell_type": "markdown",
   "metadata": {},
   "source": [
    "# canSum"
   ]
  },
  {
   "cell_type": "code",
   "execution_count": 305,
   "metadata": {},
   "outputs": [],
   "source": [
    "def canSum(targetSum, numbers):\n",
    "    ''' Is it possible to use any combination of \"numbers\" to sum to targetSum? \n",
    "    Elements in \"numbers\" are all positive and can be reused.'''\n",
    "    array = [False]*(targetSum+1)\n",
    "    array[0] = True\n",
    "    for i in range(targetSum+1):\n",
    "        if array[i] == True:\n",
    "            for num in numbers:\n",
    "                if (i+num) < (targetSum+1) : array[i+num] = True        \n",
    "    return array[-1]"
   ]
  },
  {
   "cell_type": "code",
   "execution_count": 306,
   "metadata": {},
   "outputs": [
    {
     "data": {
      "text/plain": [
       "True"
      ]
     },
     "execution_count": 306,
     "metadata": {},
     "output_type": "execute_result"
    }
   ],
   "source": [
    "targetSum = 7\n",
    "numbers = [5,3,4,7]\n",
    "canSum(targetSum, numbers)"
   ]
  },
  {
   "cell_type": "markdown",
   "metadata": {},
   "source": [
    "# howSum"
   ]
  },
  {
   "cell_type": "code",
   "execution_count": 396,
   "metadata": {},
   "outputs": [],
   "source": [
    "def howSum(targetSum,numbers):\n",
    "    ''' Return at least one way to create targetSum if possible'''\n",
    "    # initiallization\n",
    "    table = [None]*(targetSum+1)\n",
    "    # seed\n",
    "    table[0] = []\n",
    "    for i in range(targetSum+1):\n",
    "        if table[i] != None:\n",
    "            for num in numbers:\n",
    "                if (i+num) < (targetSum+1):\n",
    "                    table[i+num]=[num]+table[i]\n",
    "        print(table)\n",
    "    return table[-1]"
   ]
  },
  {
   "cell_type": "code",
   "execution_count": 398,
   "metadata": {},
   "outputs": [
    {
     "name": "stdout",
     "output_type": "stream",
     "text": [
      "[[], None, [2], [3], None, [5], None, None, None]\n",
      "[[], None, [2], [3], None, [5], None, None, None]\n",
      "[[], None, [2], [3], [2, 2], [3, 2], None, [5, 2], None]\n",
      "[[], None, [2], [3], [2, 2], [2, 3], [3, 3], [5, 2], [5, 3]]\n",
      "[[], None, [2], [3], [2, 2], [2, 3], [2, 2, 2], [3, 2, 2], [5, 3]]\n",
      "[[], None, [2], [3], [2, 2], [2, 3], [2, 2, 2], [2, 2, 3], [3, 2, 3]]\n",
      "[[], None, [2], [3], [2, 2], [2, 3], [2, 2, 2], [2, 2, 3], [2, 2, 2, 2]]\n",
      "[[], None, [2], [3], [2, 2], [2, 3], [2, 2, 2], [2, 2, 3], [2, 2, 2, 2]]\n",
      "[[], None, [2], [3], [2, 2], [2, 3], [2, 2, 2], [2, 2, 3], [2, 2, 2, 2]]\n"
     ]
    },
    {
     "data": {
      "text/plain": [
       "[2, 2, 2, 2]"
      ]
     },
     "execution_count": 398,
     "metadata": {},
     "output_type": "execute_result"
    }
   ],
   "source": [
    "targetSum = 8\n",
    "numbers = [2,3,5]\n",
    "howSum(targetSum,numbers)"
   ]
  },
  {
   "cell_type": "markdown",
   "metadata": {},
   "source": [
    "# bestSum"
   ]
  },
  {
   "cell_type": "code",
   "execution_count": 421,
   "metadata": {},
   "outputs": [],
   "source": [
    "def bestSum(targetSum,numbers):\n",
    "    ''' Return the sum (if it exists) that requires the fewest numbers '''\n",
    "    # initiallization\n",
    "    table = [None]*(targetSum+1)\n",
    "    # seed\n",
    "    table[0] = []\n",
    "    for i in range(targetSum+1):\n",
    "        if table[i] != None:\n",
    "            for num in numbers:\n",
    "                if (i+num) < (targetSum+1):\n",
    "                    combination = [num]+table[i]\n",
    "                    if table[i+num] != None:\n",
    "                        if len(combination)<len(table[i+num]):\n",
    "                            table[i+num]=combination\n",
    "                    else:\n",
    "                        table[i+num]=combination\n",
    "    return table[-1]"
   ]
  },
  {
   "cell_type": "code",
   "execution_count": 422,
   "metadata": {},
   "outputs": [
    {
     "data": {
      "text/plain": [
       "[25, 25, 25, 25]"
      ]
     },
     "execution_count": 422,
     "metadata": {},
     "output_type": "execute_result"
    }
   ],
   "source": [
    "targetSum = 100\n",
    "numbers = [1,2,5,25]\n",
    "bestSum(targetSum,numbers)"
   ]
  },
  {
   "cell_type": "markdown",
   "metadata": {},
   "source": [
    "# canConstruct"
   ]
  },
  {
   "cell_type": "code",
   "execution_count": 431,
   "metadata": {},
   "outputs": [],
   "source": [
    "def canConstruct(targetString,wordBank):\n",
    "    '''Is it possible to construct the target string using words in the wordBank (as many times as you need)'''\n",
    "    if target == '': return True\n",
    "    # create container for tabulation and initialize all to False\n",
    "    table = [False]*(len(targetString)+1)\n",
    "    # seed value\n",
    "    table[0] = True\n",
    "    \n",
    "    for i in range(len(targetString)+1):\n",
    "        if table[i] == True:\n",
    "            for word in wordBank:\n",
    "                if targetString[i:i+len(word)] == word:\n",
    "                    table[i+len(word)] = True\n",
    "        print(table)\n",
    "    return table[-1]"
   ]
  },
  {
   "cell_type": "code",
   "execution_count": 432,
   "metadata": {},
   "outputs": [
    {
     "name": "stdout",
     "output_type": "stream",
     "text": [
      "[True, False, True, True, True, False, False]\n",
      "[True, False, True, True, True, False, False]\n",
      "[True, False, True, True, True, False, False]\n",
      "[True, False, True, True, True, False, True]\n",
      "[True, False, True, True, True, False, True]\n",
      "[True, False, True, True, True, False, True]\n",
      "[True, False, True, True, True, False, True]\n"
     ]
    },
    {
     "data": {
      "text/plain": [
       "True"
      ]
     },
     "execution_count": 432,
     "metadata": {},
     "output_type": "execute_result"
    }
   ],
   "source": [
    "targetString = \"abcdef\"\n",
    "wordBank = [\"ab\", \"abc\", \"cd\", \"def\", \"abcd\"]\n",
    "canConstruct(targetString,wordBank)"
   ]
  },
  {
   "cell_type": "markdown",
   "metadata": {},
   "source": [
    "# countConstruct"
   ]
  },
  {
   "cell_type": "code",
   "execution_count": 461,
   "metadata": {},
   "outputs": [],
   "source": [
    "def countConstruct(targetString,wordBank):\n",
    "    '''Count how many ways there are to construct the target string using words in the wordBank (as many times as you need)'''\n",
    "    if targetString == '': return 1\n",
    "    table = [0]*(len(targetString)+1)\n",
    "    table[0] = 1\n",
    "\n",
    "    for i in range(len(targetString)+1):\n",
    "        if table[i] > 0:\n",
    "            for word in wordBank:\n",
    "                if targetString[i:i+len(word)] == word:\n",
    "                    table[i+len(word)] += table[i]\n",
    "        print(table)\n",
    "    return table[-1]"
   ]
  },
  {
   "cell_type": "code",
   "execution_count": 463,
   "metadata": {},
   "outputs": [
    {
     "name": "stdout",
     "output_type": "stream",
     "text": [
      "[1, 0, 0, 1, 0, 1, 0, 0, 0, 0, 0, 0, 0, 0, 0, 0]\n",
      "[1, 0, 0, 1, 0, 1, 0, 0, 0, 0, 0, 0, 0, 0, 0, 0]\n",
      "[1, 0, 0, 1, 0, 1, 0, 0, 0, 0, 0, 0, 0, 0, 0, 0]\n",
      "[1, 0, 0, 1, 0, 1, 0, 0, 0, 0, 0, 0, 0, 0, 0, 0]\n",
      "[1, 0, 0, 1, 0, 1, 0, 0, 0, 0, 0, 0, 0, 0, 0, 0]\n",
      "[1, 0, 0, 1, 0, 1, 1, 0, 0, 0, 0, 0, 0, 0, 0, 0]\n",
      "[1, 0, 0, 1, 0, 1, 1, 1, 0, 0, 0, 0, 0, 0, 0, 0]\n",
      "[1, 0, 0, 1, 0, 1, 1, 1, 1, 1, 0, 0, 0, 0, 0, 0]\n",
      "[1, 0, 0, 1, 0, 1, 1, 1, 1, 2, 0, 0, 0, 0, 0, 0]\n",
      "[1, 0, 0, 1, 0, 1, 1, 1, 1, 2, 0, 0, 2, 0, 0, 0]\n",
      "[1, 0, 0, 1, 0, 1, 1, 1, 1, 2, 0, 0, 2, 0, 0, 0]\n",
      "[1, 0, 0, 1, 0, 1, 1, 1, 1, 2, 0, 0, 2, 0, 0, 0]\n",
      "[1, 0, 0, 1, 0, 1, 1, 1, 1, 2, 0, 0, 2, 2, 0, 0]\n",
      "[1, 0, 0, 1, 0, 1, 1, 1, 1, 2, 0, 0, 2, 2, 2, 2]\n",
      "[1, 0, 0, 1, 0, 1, 1, 1, 1, 2, 0, 0, 2, 2, 2, 4]\n",
      "[1, 0, 0, 1, 0, 1, 1, 1, 1, 2, 0, 0, 2, 2, 2, 4]\n"
     ]
    },
    {
     "data": {
      "text/plain": [
       "4"
      ]
     },
     "execution_count": 463,
     "metadata": {},
     "output_type": "execute_result"
    }
   ],
   "source": [
    "targetString = \"purple\"\n",
    "wordBank = [\"purp\",\"p\",\"ur\",\"le\", \"purpl\"]\n",
    "targetString = \"enterapotentpot\"\n",
    "wordBank = [\"a\", \"p\", \"ent\", \"enter\", \"ot\", \"o\", \"t\"]\n",
    "countConstruct(targetString,wordBank)"
   ]
  },
  {
   "cell_type": "markdown",
   "metadata": {},
   "source": [
    "# allConstruct"
   ]
  },
  {
   "cell_type": "code",
   "execution_count": 665,
   "metadata": {},
   "outputs": [],
   "source": [
    "def allConstruct(targetString,wordBank):\n",
    "    if targetString == '': return [[]]\n",
    "    table = [None]*(len(targetString)+1)\n",
    "    table = [[[]] for x in range(len(table))]\n",
    "    \n",
    "    for i in range(len(targetString)+1):\n",
    "        print('---------------')\n",
    "        for word in wordBank:\n",
    "            if targetString[i:i+len(word)] == word:\n",
    "                # copy over those in table[i] and append word to each of those.\n",
    "                table[i+len(word)].extend(table[i]+[word])\n",
    "                print(table[i])\n",
    "                #table[i+len(word)].append(table[i])\n",
    "                #for j in range(len(table[i+len(word)])):\n",
    "                #    table[i+len(word)][j] += [word]\n",
    "        #print(table)\n",
    "    return table[-1]"
   ]
  },
  {
   "cell_type": "code",
   "execution_count": 666,
   "metadata": {},
   "outputs": [
    {
     "name": "stdout",
     "output_type": "stream",
     "text": [
      "---------------\n",
      "[[]]\n",
      "[[]]\n",
      "[[]]\n",
      "---------------\n",
      "---------------\n",
      "[[], [], 'ab']\n",
      "[[], [], 'ab']\n",
      "---------------\n",
      "[[], [], 'abc', [], [], 'ab', 'c']\n",
      "---------------\n",
      "[[], [], 'abcd', [], [], 'ab', 'cd']\n",
      "---------------\n",
      "---------------\n"
     ]
    },
    {
     "data": {
      "text/plain": [
       "[[],\n",
       " [],\n",
       " [],\n",
       " 'abc',\n",
       " [],\n",
       " [],\n",
       " 'ab',\n",
       " 'c',\n",
       " 'def',\n",
       " [],\n",
       " [],\n",
       " 'abcd',\n",
       " [],\n",
       " [],\n",
       " 'ab',\n",
       " 'cd',\n",
       " 'ef']"
      ]
     },
     "execution_count": 666,
     "metadata": {},
     "output_type": "execute_result"
    }
   ],
   "source": [
    "targetString = 'abcdef'\n",
    "wordBank = ['ab', 'abc', 'cd', 'def', 'abcd', 'ef', 'c']\n",
    "allConstruct(targetString, wordBank)"
   ]
  },
  {
   "cell_type": "code",
   "execution_count": 673,
   "metadata": {},
   "outputs": [
    {
     "data": {
      "text/plain": [
       "[['abc', 'boy'], ['ab', 'c', 'boy']]"
      ]
     },
     "execution_count": 673,
     "metadata": {},
     "output_type": "execute_result"
    }
   ],
   "source": [
    "[x+['boy'] for x in [['abc'],['ab','c']]]"
   ]
  },
  {
   "cell_type": "code",
   "execution_count": 674,
   "metadata": {},
   "outputs": [
    {
     "name": "stdout",
     "output_type": "stream",
     "text": [
      "0\n",
      "1\n",
      "2\n",
      "3\n",
      "4\n",
      "5\n",
      "6\n"
     ]
    }
   ],
   "source": [
    "test = [[], [], ['ab'], ['abc'], ['abcd'], [], []]\n",
    "for i in range(len(test)):\n",
    "    print(i)\n",
    "    if len(test[i])>0:\n",
    "        test[i].extend(['boy'])"
   ]
  },
  {
   "cell_type": "code",
   "execution_count": 593,
   "metadata": {},
   "outputs": [
    {
     "data": {
      "text/plain": [
       "[[], [], ['ab', 'boy'], ['abc', 'boy'], ['abcd', 'boy'], [], []]"
      ]
     },
     "execution_count": 593,
     "metadata": {},
     "output_type": "execute_result"
    }
   ],
   "source": [
    "test"
   ]
  },
  {
   "cell_type": "markdown",
   "metadata": {},
   "source": [
    "# Fibonacci (Naive)"
   ]
  },
  {
   "cell_type": "code",
   "execution_count": 675,
   "metadata": {},
   "outputs": [],
   "source": [
    "# Function for nth Fibonacci number\n",
    "\n",
    "def Fibonacci(n):\n",
    "\tif n<0:\n",
    "\t\tprint(\"Incorrect input\")\n",
    "\t# First Fibonacci number is 0\n",
    "\telif n==0:\n",
    "\t\treturn 0\n",
    "\t# Second Fibonacci number is 1\n",
    "\telif n==1:\n",
    "\t\treturn 1\n",
    "\telse:\n",
    "\t\treturn Fibonacci(n-1)+Fibonacci(n-2)"
   ]
  },
  {
   "cell_type": "code",
   "execution_count": 676,
   "metadata": {},
   "outputs": [
    {
     "name": "stdout",
     "output_type": "stream",
     "text": [
      "34\n"
     ]
    }
   ],
   "source": [
    "# Driver Program\n",
    "print(Fibonacci(9))"
   ]
  },
  {
   "cell_type": "code",
   "execution_count": 677,
   "metadata": {},
   "outputs": [],
   "source": [
    "def fibonacci(n):\n",
    "    # using memoization of the entire up to n\n",
    "    f=[0,1] # first two - code does not work for n<2\n",
    "    for i in range(2,n+1):\n",
    "        f.append(f[i-1]+f[i-2])\n",
    "    return f[n]"
   ]
  },
  {
   "cell_type": "code",
   "execution_count": 679,
   "metadata": {},
   "outputs": [
    {
     "name": "stdout",
     "output_type": "stream",
     "text": [
      "26863810024485359386146727202142923967616609318986952340123175997617981700247881689338369654483356564191827856161443356312976673642210350324634850410377680367334151172899169723197082763985615764450078474174626\n"
     ]
    }
   ],
   "source": [
    "print(fibonacci(999))"
   ]
  },
  {
   "cell_type": "code",
   "execution_count": 680,
   "metadata": {},
   "outputs": [],
   "source": [
    "# Function for nth fibonacci number - Space Optimisataion\n",
    "# Taking 1st two fibonacci numbers as 0 and 1\n",
    "\n",
    "def fibonacci(n):\n",
    "\ta = 0\n",
    "\tb = 1\n",
    "\tif n < 0:\n",
    "\t\tprint(\"Incorrect input\")\n",
    "\telif n == 0:\n",
    "\t\treturn a\n",
    "\telif n == 1:\n",
    "\t\treturn b\n",
    "\telse:\n",
    "\t\tfor i in range(2,n+1):\n",
    "\t\t\tc = a + b\n",
    "\t\t\ta = b\n",
    "\t\t\tb = c\n",
    "\t\treturn b"
   ]
  },
  {
   "cell_type": "code",
   "execution_count": 681,
   "metadata": {},
   "outputs": [
    {
     "name": "stdout",
     "output_type": "stream",
     "text": [
      "26863810024485359386146727202142923967616609318986952340123175997617981700247881689338369654483356564191827856161443356312976673642210350324634850410377680367334151172899169723197082763985615764450078474174626\n"
     ]
    }
   ],
   "source": [
    "print(fibonacci(999))"
   ]
  },
  {
   "cell_type": "code",
   "execution_count": 682,
   "metadata": {},
   "outputs": [],
   "source": [
    "import math"
   ]
  },
  {
   "cell_type": "code",
   "execution_count": 683,
   "metadata": {},
   "outputs": [
    {
     "data": {
      "text/plain": [
       "0.6931471805599453"
      ]
     },
     "execution_count": 683,
     "metadata": {},
     "output_type": "execute_result"
    }
   ],
   "source": [
    "math.log(2) # log(n) is sub linear"
   ]
  },
  {
   "cell_type": "markdown",
   "metadata": {},
   "source": [
    "# Fibonacci top down memoization"
   ]
  },
  {
   "cell_type": "code",
   "execution_count": 688,
   "metadata": {},
   "outputs": [],
   "source": [
    "# Initialize array of dp\n",
    "dp = [-1 for i in range(1000)]\n",
    "\n",
    "def fib(n):\n",
    "\tif (n <= 1):\n",
    "\t\treturn n;\n",
    "\tglobal dp;\n",
    "\t\n",
    "\t# Temporary variables to store\n",
    "\t# values of fib(n-1) & fib(n-2)\n",
    "\tfirst = 0;\n",
    "\tsecond = 0;\n",
    "\n",
    "\tif (dp[n - 1] != -1):\n",
    "\t\tfirst = dp[n - 1];\n",
    "\telse:\n",
    "\t\tfirst = fib(n - 1);\n",
    "\tif (dp[n - 2] != -1):\n",
    "\t\tsecond = dp[n - 2];\n",
    "\telse:\n",
    "\t\tsecond = fib(n - 2);\n",
    "\tdp[n] = first + second;\n",
    "\n",
    "\t# Memoization\n",
    "\treturn dp[n] "
   ]
  },
  {
   "cell_type": "code",
   "execution_count": 689,
   "metadata": {},
   "outputs": [
    {
     "data": {
      "text/plain": [
       "26863810024485359386146727202142923967616609318986952340123175997617981700247881689338369654483356564191827856161443356312976673642210350324634850410377680367334151172899169723197082763985615764450078474174626"
      ]
     },
     "execution_count": 689,
     "metadata": {},
     "output_type": "execute_result"
    }
   ],
   "source": [
    "fib(999)"
   ]
  },
  {
   "cell_type": "markdown",
   "metadata": {},
   "source": [
    "# 0-1 Knapsack Problem"
   ]
  },
  {
   "cell_type": "code",
   "execution_count": 690,
   "metadata": {},
   "outputs": [],
   "source": [
    "# Brute force recursive solution"
   ]
  },
  {
   "cell_type": "code",
   "execution_count": 692,
   "metadata": {},
   "outputs": [],
   "source": [
    "def knapSack(W, wt, val, n):\n",
    "    # W capacity\n",
    "    # wt - weight of each potential item\n",
    "    # val - value of each potential item\n",
    "    # n - length of wt or val\n",
    "    \n",
    "    # base case\n",
    "    if n==0 or W == 0:\n",
    "        # number of items or capacity is defined to be zero\n",
    "        return 0\n",
    "    \n",
    "    # if the weight of the nth item is capacity W\n",
    "    # then item cannot be included in the optimal solution\n",
    "    if wt[n-1]>W:\n",
    "        # skip it\n",
    "        return knapSack(W,wt,val,n-1)\n",
    "    \n",
    "    # return the max of two cases\n",
    "    # 1) nth item included\n",
    "    # 2) nth item left out\n",
    "    else:\n",
    "        return max(val[n-1]+knapSack(W-wt[n-1],wt,val,n-1),\n",
    "                  knapSack(W,wt,val,n-1))\n",
    "    "
   ]
  },
  {
   "cell_type": "code",
   "execution_count": 694,
   "metadata": {},
   "outputs": [
    {
     "data": {
      "text/plain": [
       "220"
      ]
     },
     "execution_count": 694,
     "metadata": {},
     "output_type": "execute_result"
    }
   ],
   "source": [
    "val = [60, 100, 120]\n",
    "wt = [10, 20, 30]\n",
    "W = 50\n",
    "n = len(val)\n",
    "knapSack(W, wt, val, n)"
   ]
  },
  {
   "cell_type": "markdown",
   "metadata": {},
   "source": [
    "# DP using memoization"
   ]
  },
  {
   "cell_type": "code",
   "execution_count": 720,
   "metadata": {},
   "outputs": [],
   "source": [
    "# We initialize the matrix with 0 at first.\n",
    "t = [[-1 for i in range(W + 1)] for j in range(n + 1)]\n",
    "\n",
    "def knapSack(wt, val, W, n):\n",
    "\n",
    "\t# base conditions\n",
    "\tif n == 0 or W == 0:\n",
    "\t\treturn 0\n",
    "\tif t[n][W] != -1:\n",
    "\t\treturn t[n][W]\n",
    "\n",
    "\t# choice diagram code\n",
    "\tif wt[n-1] <= W:\n",
    "\t\tt[n][W] = max(\n",
    "\t\t\tval[n-1] + knapsack(\n",
    "\t\t\t\twt, val, W-wt[n-1], n-1),\n",
    "\t\t\tknapsack(wt, val, W, n-1))\n",
    "\t\treturn t[n][W]\n",
    "\telif wt[n-1] > W:\n",
    "\t\tt[n][W] = knapsack(wt, val, W, n-1)\n",
    "\t\treturn t[n][W]"
   ]
  },
  {
   "cell_type": "code",
   "execution_count": 721,
   "metadata": {},
   "outputs": [
    {
     "data": {
      "text/plain": [
       "220"
      ]
     },
     "execution_count": 721,
     "metadata": {},
     "output_type": "execute_result"
    }
   ],
   "source": [
    "val = [60, 100, 120]\n",
    "wt = [10, 20, 30]\n",
    "W = 50\n",
    "n = len(val)\n",
    "knapSack(wt, val, W, n)"
   ]
  },
  {
   "cell_type": "markdown",
   "metadata": {},
   "source": [
    "# DP using bottom up tabulation"
   ]
  },
  {
   "cell_type": "code",
   "execution_count": 701,
   "metadata": {},
   "outputs": [],
   "source": [
    "def knapSack(W,wt,val,n):\n",
    "    # cols = capacity\n",
    "    # weight = rows\n",
    "    # value in table is max value obtainable\n",
    "    table = [[0 for x in range(W+1)] for x in range(n+1)]\n",
    "    \n",
    "    # build the table bottom up\n",
    "    for i in range(n+1):\n",
    "        # rows\n",
    "        for j in range(W+1):\n",
    "            # columns\n",
    "            if i == 0 or j == 0: \n",
    "                # nothing gives nothing\n",
    "                table[i][j] = 0\n",
    "            elif wt[i-1]>W:\n",
    "                # item too heavy so skip it\n",
    "                table[i][j]=table[i-1][j]\n",
    "            else:\n",
    "                # the comparison\n",
    "                table[i][j]=max(table[i-1][j],\n",
    "                                val[i-1]+table[i-1][j-wt[i-1]])\n",
    "    return table[n][j]"
   ]
  },
  {
   "cell_type": "code",
   "execution_count": 702,
   "metadata": {},
   "outputs": [
    {
     "name": "stdout",
     "output_type": "stream",
     "text": [
      "220\n"
     ]
    }
   ],
   "source": [
    "val = [60, 100, 120]\n",
    "wt = [10, 20, 30]\n",
    "W = 50\n",
    "n = len(val)\n",
    "print(knapSack(W, wt, val, n))"
   ]
  },
  {
   "cell_type": "markdown",
   "metadata": {},
   "source": [
    "# Coin Change"
   ]
  },
  {
   "cell_type": "code",
   "execution_count": 724,
   "metadata": {},
   "outputs": [],
   "source": [
    "# recursive - suboptimal solution"
   ]
  },
  {
   "cell_type": "code",
   "execution_count": 725,
   "metadata": {},
   "outputs": [],
   "source": [
    "# returns the count of ways that we can sum S[0...m-1] coins to get sum n\n",
    "def count(S,m,n):\n",
    "    # n is the target sum\n",
    "    # S = list of coin values\n",
    "    # m = len(S), number of coin types/values\n",
    "    \n",
    "    # base cases\n",
    "    # if n = 0 then there is one solution - no coins\n",
    "    if n == 0: return 1 # this is the leaf that accumulates!\n",
    "    \n",
    "    # if n < 0 then there are 0 zolutions\n",
    "    if n<0: return 0\n",
    "    \n",
    "    # if there are no coins and the target is > 0\n",
    "    # then there is no solution\n",
    "    if m==0 and n>0:\n",
    "        return 0\n",
    "\n",
    "    return count(S,m-1,n)+count(S,m,n-S[m-1])"
   ]
  },
  {
   "cell_type": "code",
   "execution_count": 726,
   "metadata": {},
   "outputs": [
    {
     "name": "stdout",
     "output_type": "stream",
     "text": [
      "4\n"
     ]
    }
   ],
   "source": [
    "arr = [1, 2, 3] \n",
    "m = len(arr) \n",
    "print(count(arr, m, 4)) "
   ]
  },
  {
   "cell_type": "markdown",
   "metadata": {},
   "source": [
    "# DP using a table"
   ]
  },
  {
   "cell_type": "code",
   "execution_count": 737,
   "metadata": {},
   "outputs": [],
   "source": [
    "def count(S,m,n):\n",
    "    # we need n+1 rows as the table is constructed\n",
    "    # in bottom up manner using the base case 0 value\n",
    "    # case n=0\n",
    "    table = [[0 for x in range(m)] for x in range(n+1)]\n",
    "    \n",
    "    # fill the seed - there is 1 way to solve it \n",
    "    # if the target is 0 - return 0 coins\n",
    "    for j in range(m):\n",
    "        table[0][j]=1\n",
    "        \n",
    "    # fill the rest of the table entries \n",
    "    for i in range(1,n+1):\n",
    "        for j in range(m):\n",
    "            # count the solutions including S[j]\n",
    "            a = table[i-S[j]][j] if i-S[j]>= 0 else 0\n",
    "            \n",
    "            # count the solutions NOT including S[j]\n",
    "            b = table[i][j-1] if j>= 1 else 0\n",
    "            \n",
    "            # total count\n",
    "            table[i][j] = a+b\n",
    "\n",
    "    return table[n][m-1]"
   ]
  },
  {
   "cell_type": "code",
   "execution_count": 738,
   "metadata": {},
   "outputs": [
    {
     "name": "stdout",
     "output_type": "stream",
     "text": [
      "4\n"
     ]
    }
   ],
   "source": [
    "arr = [1, 2, 3] \n",
    "m = len(arr) \n",
    "n = 4\n",
    "print(count(arr, m, n)) "
   ]
  },
  {
   "cell_type": "code",
   "execution_count": 739,
   "metadata": {},
   "outputs": [],
   "source": [
    "# Improvement by reducing space requirement"
   ]
  },
  {
   "cell_type": "code",
   "execution_count": 740,
   "metadata": {},
   "outputs": [],
   "source": [
    "def count(S,m,n):\n",
    "    # table[i] will be storing the number of solutions\n",
    "    # for value i. We need n+1 rows as the table is constructed\n",
    "    # in bottom up manner using the base case (n=0) return 1\n",
    "    \n",
    "    # Initialize all table values as 0\n",
    "    table = [0 for x in range(n+1)]\n",
    "    \n",
    "    # base case\n",
    "    table[0] = 1\n",
    "    \n",
    "    # pick all coins one by one and update the values in the table\n",
    "    # after the index greate than or equal to the value of the picked coin\n",
    "    for i in range(0,m):\n",
    "        for j in range(S[i],n+1):\n",
    "            table[j]+=table[j-S[i]]\n",
    "            \n",
    "    return table"
   ]
  },
  {
   "cell_type": "code",
   "execution_count": 741,
   "metadata": {},
   "outputs": [
    {
     "name": "stdout",
     "output_type": "stream",
     "text": [
      "[1, 1, 2, 3, 4]\n"
     ]
    }
   ],
   "source": [
    "arr = [1, 2, 3] \n",
    "m = len(arr) \n",
    "n = 4\n",
    "x = count(arr, m, n) \n",
    "print (x) "
   ]
  },
  {
   "cell_type": "code",
   "execution_count": null,
   "metadata": {},
   "outputs": [],
   "source": []
  }
 ],
 "metadata": {
  "kernelspec": {
   "display_name": "Python 3",
   "language": "python",
   "name": "python3"
  },
  "language_info": {
   "codemirror_mode": {
    "name": "ipython",
    "version": 3
   },
   "file_extension": ".py",
   "mimetype": "text/x-python",
   "name": "python",
   "nbconvert_exporter": "python",
   "pygments_lexer": "ipython3",
   "version": "3.7.3"
  }
 },
 "nbformat": 4,
 "nbformat_minor": 4
}
