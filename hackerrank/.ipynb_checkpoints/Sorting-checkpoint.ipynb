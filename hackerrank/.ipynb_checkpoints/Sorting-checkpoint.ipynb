{
 "cells": [
  {
   "cell_type": "markdown",
   "metadata": {},
   "source": [
    "# Bubble Sort"
   ]
  },
  {
   "cell_type": "raw",
   "metadata": {},
   "source": [
    "Consider the following version of bubble sort\n",
    "\n",
    "for (int i = 0; i < n; i++) {\n",
    "    \n",
    "    for (int j = 0; j < n - 1; j++) {\n",
    "        // Swap adjacent elements if they are in decreasing order\n",
    "        if (a[j] > a[j + 1]) {\n",
    "            swap(a[j], a[j + 1]);\n",
    "        }\n",
    "    }\n",
    "    \n",
    "}\n",
    "\n",
    "Given an array of integers, sort the array in ascending order using the Bubble Sort algorithm above. Once sorted, print the following three lines:\n",
    "\n",
    "1. Array is sorted in numSwaps swaps., where numSwaps is the number of swaps that took place.\n",
    "2. First Element: firstElement, where firstElement is the first element in the sorted array.\n",
    "3. Last Element: lastElement, where lastElement is the last element in the sorted array.\n",
    "\n",
    "Hint: To complete this challenge, you must add a variable that keeps a running tally of all swaps that occur during execution. "
   ]
  },
  {
   "cell_type": "raw",
   "metadata": {},
   "source": [
    "Example: a[6,4,1]\n",
    "    \n",
    "swap    a       \n",
    "0       [6,4,1]\n",
    "1       [4,6,1]\n",
    "2       [4,1,6]\n",
    "3       [1,4,6]\n",
    "\n",
    "Array is sorted in 3 swaps.  \n",
    "First Element: 1  \n",
    "Last Element: 6  "
   ]
  },
  {
   "cell_type": "raw",
   "metadata": {},
   "source": [
    "input :\n",
    "    The first line contains an integer, \"n\", the size of the array \"a\".\n",
    "    The second line contains \"n\" space-separated integers a[i].\n",
    "    \n",
    "constraints\n",
    "1<=n<=600\n",
    "1<=a[i]<=2e6\n",
    "\n",
    "output : print statement (no return value)\n",
    "Array is sorted in 3 swaps.  \n",
    "First Element: 1  \n",
    "Last Element: 6  "
   ]
  },
  {
   "cell_type": "code",
   "execution_count": 7,
   "metadata": {},
   "outputs": [],
   "source": [
    "def countSwaps(a):\n",
    "    num_swaps = 0\n",
    "    for i in range(len(a)):\n",
    "        for j in range(len(a)-1):\n",
    "            if a[j] > a[j+1]:\n",
    "                temp = a[j]\n",
    "                a[j] = a[j+1]\n",
    "                a[j+1] = temp\n",
    "                num_swaps+=1\n",
    "    first_element = a[0]\n",
    "    last_element = a[-1]\n",
    "    print(\"Array is sorted in \"+str(int(num_swaps))+\" swaps.\")\n",
    "    print(\"First Element: \"+str(int(first_element)))\n",
    "    print(\"Last Element: \"+str(int(last_element)))"
   ]
  },
  {
   "cell_type": "code",
   "execution_count": 8,
   "metadata": {},
   "outputs": [
    {
     "name": "stdout",
     "output_type": "stream",
     "text": [
      "Array is sorted in 3 swaps.\n",
      "First Element: 1\n",
      "Last Element: 6\n"
     ]
    }
   ],
   "source": [
    "a = [6,4,1]\n",
    "countSwaps(a)"
   ]
  },
  {
   "cell_type": "markdown",
   "metadata": {},
   "source": [
    "# Fraudulent Activity Notifications"
   ]
  },
  {
   "cell_type": "raw",
   "metadata": {},
   "source": [
    "HackerLand National Bank has a simple policy for warning clients about possible fraudulent account activity. If the amount spent by a client on a particular day is greater than or equal to 2x the client's median spending for a trailing number of days, they send the client a notification about potential fraud. The bank doesn't send the client any notifications until they have at least that trailing number of prior days' transaction data. Given the number of trailing days\"d\" and a client's total daily expenditures for a period of \"n\" days, find and print the number of times the client will receive a notification over all \"n\" days.\n",
    "\n",
    "For example, d=3 and expenditures = [10,20,30,40,50]. On the first three days, they just collect spending data. At day 4, we have trailing expenditures of [10,20,30]. The median is 20 and the day's expenditure is 40. Because 40>=2*20, there will be a notice. The next day, our trailing expenditures are [20,30,40] and the expenditures are 50. This is less than 2*30 so no notice will be sent. Over the period, there was one notice sent."
   ]
  },
  {
   "cell_type": "raw",
   "metadata": {},
   "source": [
    "input: list of expenditures of length n, d = number of days to look back for check\n",
    "    \n",
    "output : number of notices for the list of values given\n",
    "\n",
    "constraints:\n",
    "1<=n<=2e5 # no big deal\n",
    "1<=d<=n # no big deal - you will always eventually have enough history\n",
    "0<=expenditures[i]<=200 # no big deal - positive amount spent and less than 200 each time"
   ]
  },
  {
   "cell_type": "raw",
   "metadata": {},
   "source": [
    "Thoughts:\n",
    "- median sub function (deals with even or odd number of days)\n",
    "- ignore if number of trailing days is not enough\n",
    "- is notice required sub function\n",
    "- one pass through an array is probably sufficient"
   ]
  },
  {
   "cell_type": "code",
   "execution_count": 17,
   "metadata": {},
   "outputs": [],
   "source": [
    "import math"
   ]
  },
  {
   "cell_type": "code",
   "execution_count": 173,
   "metadata": {},
   "outputs": [],
   "source": [
    "#intial example:\n",
    "#expenditure = [2, 3, 4, 2, 3, 6, 8, 4, 5]\n",
    "#d=5\n",
    "#expenditure = [1,2,3,4,4]\n",
    "#d = 4\n",
    "expenditure = [10,20,30,40,50]\n",
    "d = 3\n",
    "\n",
    "# output should be 2"
   ]
  },
  {
   "cell_type": "code",
   "execution_count": 152,
   "metadata": {},
   "outputs": [],
   "source": [
    "def activityNotifications(expenditure, d):\n",
    "    notice_count = 0\n",
    "    for i in range(len(expenditure)):\n",
    "        hist = expenditure[i-d:i]\n",
    "        if len(hist)< d:\n",
    "            pass\n",
    "        else:\n",
    "            current_expenditure = expenditure[i]\n",
    "            historic_expenditures = expenditure[i-d:i]\n",
    "            if current_expenditure < max(historic_expenditures):\n",
    "                pass\n",
    "            median = find_median(historic_expenditures)\n",
    "            if current_expenditure>=2*median:\n",
    "                notice_count+=1\n",
    "    return notice_count\n",
    "    \n",
    "def find_median(l):\n",
    "    l = sorted(l)\n",
    "    if len(l) == 1:\n",
    "        median = l[0]\n",
    "        return median\n",
    "    if len(l)%2==0: # length is even so take average of middle two elements\n",
    "        elem = int(math.floor(len(l)/2)-1)\n",
    "        median = (l[elem]+l[elem+1])/2.\n",
    "    else: # length is odd so take the middle element\n",
    "        median = l[int(math.floor(len(l)/2))]\n",
    "    return median"
   ]
  },
  {
   "cell_type": "code",
   "execution_count": 153,
   "metadata": {},
   "outputs": [
    {
     "data": {
      "text/plain": [
       "2"
      ]
     },
     "execution_count": 153,
     "metadata": {},
     "output_type": "execute_result"
    }
   ],
   "source": [
    "activityNotifications(expenditure, d)"
   ]
  },
  {
   "cell_type": "raw",
   "metadata": {},
   "source": [
    "# works but times out - can I skip some where the current is less than the max of the history - not enough - avoid resorting every check somehow. Consider counting sort since we are dealing with small integers (<200 in this case)"
   ]
  },
  {
   "cell_type": "code",
   "execution_count": 180,
   "metadata": {},
   "outputs": [],
   "source": [
    "def activityNotifications(expenditure,d):\n",
    "    notice_count = 0\n",
    "    count = [0]*201 # stores count of last d numbers\n",
    "    n = len(expenditure)\n",
    "    \n",
    "    for i in range(d):\n",
    "        count[expenditure[i]]+=1\n",
    "        \n",
    "    for i in range(d,n):\n",
    "        median = getTwiceMedian(count,d)\n",
    "        if expenditure[i]>=median: notice_count+=1\n",
    "        \n",
    "        # update count array\n",
    "        count[expenditure[i]]+=1\n",
    "        count[expenditure[i-d]]-=1\n",
    "            \n",
    "    return notice_count\n",
    "\n",
    "def getTwiceMedian(count,d):\n",
    "    count_freq = count.copy()\n",
    "    \n",
    "    for i in range(len(count_freq)-1): # cumulative count\n",
    "        count_freq[i+1] += count_freq[i]\n",
    "        \n",
    "    a, b = 0, 0\n",
    "    \n",
    "    if d%2==0: # even\n",
    "        first = math.floor(d/2)\n",
    "        second = first+1\n",
    "        for i in range(201):\n",
    "            if first<=count_freq[i]:\n",
    "                a = i\n",
    "                break\n",
    "        for i in range(a,201):\n",
    "            if second<=count_freq[i]:\n",
    "                b = i\n",
    "                break\n",
    "    else: # odd\n",
    "        first = math.floor(d/2)+1\n",
    "        for i in range(201):\n",
    "            if first<=count_freq[i]:\n",
    "                a = 2*i\n",
    "                break\n",
    "    \n",
    "    median = a+b\n",
    "    return median"
   ]
  },
  {
   "cell_type": "code",
   "execution_count": 182,
   "metadata": {},
   "outputs": [
    {
     "data": {
      "text/plain": [
       "1"
      ]
     },
     "execution_count": 182,
     "metadata": {},
     "output_type": "execute_result"
    }
   ],
   "source": [
    "activityNotifications(expenditure, d) # this was the winning submission - very tricky"
   ]
  },
  {
   "cell_type": "code",
   "execution_count": 156,
   "metadata": {},
   "outputs": [],
   "source": [
    "def activityNotifications(expenditure, d):\n",
    "    freq = {}\n",
    "    notify=0\n",
    "    def find(idx):\n",
    "        total_count = 0\n",
    "        for i in range(201): \n",
    "            if i in freq:\n",
    "                total_count = total_count + freq[i]\n",
    "            if total_count >= idx:\n",
    "                return i\n",
    "    for i in range(len(expenditure)-1):\n",
    "        if expenditure[i] in freq:\n",
    "            freq[expenditure[i]]+=1\n",
    "        else:\n",
    "            freq[expenditure[i]]=1\n",
    "\n",
    "        if i>=d-1:\n",
    "            if d%2 ==0:\n",
    "                median = (find(d//2)+find(d//2+1))/2\n",
    "            else:\n",
    "                median = find(d/2)\n",
    "            print(median)\n",
    "            if expenditure[i+1]>= (median*2) :\n",
    "                notify +=1\n",
    "            #remove the previous element from dictionary\n",
    "            freq[expenditure[i-d+1]]-=1\n",
    "\n",
    "    return notify  "
   ]
  },
  {
   "cell_type": "code",
   "execution_count": 157,
   "metadata": {},
   "outputs": [
    {
     "name": "stdout",
     "output_type": "stream",
     "text": [
      "3\n",
      "3\n",
      "4\n",
      "4\n"
     ]
    },
    {
     "data": {
      "text/plain": [
       "2"
      ]
     },
     "execution_count": 157,
     "metadata": {},
     "output_type": "execute_result"
    }
   ],
   "source": [
    "activityNotifications(expenditure, d)"
   ]
  },
  {
   "cell_type": "markdown",
   "metadata": {},
   "source": [
    "# Sorting Comparator"
   ]
  },
  {
   "cell_type": "code",
   "execution_count": 206,
   "metadata": {},
   "outputs": [],
   "source": [
    "from functools import cmp_to_key"
   ]
  },
  {
   "cell_type": "code",
   "execution_count": 210,
   "metadata": {},
   "outputs": [
    {
     "name": "stdout",
     "output_type": "stream",
     "text": [
      "Jones 20\n",
      "Smith 20\n",
      "Jones 15\n"
     ]
    }
   ],
   "source": [
    "class Player:\n",
    "    def __init__(self, name, score):\n",
    "        self.name = name\n",
    "        self.score = score\n",
    "        \n",
    "    def comparator(a, b):\n",
    "        if a.score<b.score:\n",
    "            return 1\n",
    "        elif a.score==b.score:\n",
    "            if a.name>b.name:\n",
    "                return 1\n",
    "            else:\n",
    "                return -1\n",
    "        else:\n",
    "            return -1\n",
    "\n",
    "raw_input = [['Smith', 20],['Jones', 15],['Jones',20]]\n",
    "n = len(raw_input)\n",
    "data = []\n",
    "for i in range(n):\n",
    "    name, score = raw_input[i]\n",
    "    score = int(score)\n",
    "    player = Player(name, score)\n",
    "    data.append(player)\n",
    "\n",
    "data = sorted(data, key=cmp_to_key(Player.comparator))\n",
    "\n",
    "for i in data:\n",
    "    print(i.name, i.score)"
   ]
  },
  {
   "cell_type": "markdown",
   "metadata": {},
   "source": [
    "# Merge Sort : Counting Inversions"
   ]
  },
  {
   "cell_type": "code",
   "execution_count": null,
   "metadata": {},
   "outputs": [],
   "source": []
  }
 ],
 "metadata": {
  "kernelspec": {
   "display_name": "Python 3",
   "language": "python",
   "name": "python3"
  },
  "language_info": {
   "codemirror_mode": {
    "name": "ipython",
    "version": 3
   },
   "file_extension": ".py",
   "mimetype": "text/x-python",
   "name": "python",
   "nbconvert_exporter": "python",
   "pygments_lexer": "ipython3",
   "version": "3.7.3"
  }
 },
 "nbformat": 4,
 "nbformat_minor": 4
}
