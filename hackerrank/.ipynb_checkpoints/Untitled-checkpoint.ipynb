{
 "cells": [
  {
   "cell_type": "markdown",
   "metadata": {},
   "source": [
    "# Sherlock and Anagrams (Arrays)"
   ]
  },
  {
   "cell_type": "raw",
   "metadata": {},
   "source": [
    "Two strings are anagrams of each other if the letters of one string can be rearranged to form the other \n",
    "string. Given a string, find the number of pairs of substrings of the string that are anagrams of each \n",
    "other. "
   ]
  },
  {
   "cell_type": "raw",
   "metadata": {},
   "source": [
    "input : 2+ lines - 1) the number of queries to follow as an integer. 2+) the input queries as strings called \"s\"\n",
    "output : int (the number of unordered anagrammatic pairs of substrings in \"s\")"
   ]
  },
  {
   "cell_type": "raw",
   "metadata": {},
   "source": [
    "Example input:\n",
    "2\n",
    "abba\n",
    "abcd"
   ]
  },
  {
   "cell_type": "raw",
   "metadata": {},
   "source": [
    "Example output:\n",
    "4\n",
    "0"
   ]
  },
  {
   "cell_type": "raw",
   "metadata": {},
   "source": [
    "Example gives single letters as well as inclusion / exclusion of center letter - also gives a list of \n",
    "lists for each pair found indicating the indices from the original string (not asked for but they show \n",
    "it?!) - Also center letters can be duplicated+ (cases - no center letter, single reused center letter, two center letters... there are no words with three repeated letters to worry about .. I'm guessing.\n",
    "Remember that the anagram does NOT have to be the reverse of the original only it must be composed of the same letters with the central overlap in common (if not itself)"
   ]
  },
  {
   "cell_type": "raw",
   "metadata": {},
   "source": [
    "Constraints:\n",
    "the length of each input string is 2<=|s|<=100 and only contains lowercase letters"
   ]
  },
  {
   "cell_type": "code",
   "execution_count": null,
   "metadata": {},
   "outputs": [],
   "source": [
    "Thoughts:\n",
    "- for each substring (of length 1 to len(s)) that I can make can I also find its pair? \n",
    "- keep a count of all that I find."
   ]
  }
 ],
 "metadata": {
  "kernelspec": {
   "display_name": "Python 3",
   "language": "python",
   "name": "python3"
  },
  "language_info": {
   "codemirror_mode": {
    "name": "ipython",
    "version": 3
   },
   "file_extension": ".py",
   "mimetype": "text/x-python",
   "name": "python",
   "nbconvert_exporter": "python",
   "pygments_lexer": "ipython3",
   "version": "3.7.3"
  }
 },
 "nbformat": 4,
 "nbformat_minor": 4
}
