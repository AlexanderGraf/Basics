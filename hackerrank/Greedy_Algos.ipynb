{
 "cells": [
  {
   "cell_type": "markdown",
   "metadata": {},
   "source": [
    "# Minimum Absolute Difference in an Array"
   ]
  },
  {
   "cell_type": "code",
   "execution_count": 15,
   "metadata": {},
   "outputs": [],
   "source": [
    "import math"
   ]
  },
  {
   "cell_type": "code",
   "execution_count": 9,
   "metadata": {},
   "outputs": [],
   "source": [
    "def minimumAbsoluteDifference(arr):\n",
    "    arr = sorted(list(set(arr)))\n",
    "    l = len(arr)\n",
    "    d_min = sys.float_info[0]\n",
    "    for i in range(l):\n",
    "        for j in range(i+1,l):\n",
    "            d_temp = abs(arr[i]-arr[j])\n",
    "            if d_temp < d_min:\n",
    "                d_min = d_temp\n",
    "                if d_min == 0:\n",
    "                    break\n",
    "    return d_min"
   ]
  },
  {
   "cell_type": "code",
   "execution_count": 6,
   "metadata": {},
   "outputs": [],
   "source": [
    "import sys"
   ]
  },
  {
   "cell_type": "code",
   "execution_count": 7,
   "metadata": {},
   "outputs": [
    {
     "data": {
      "text/plain": [
       "inf"
      ]
     },
     "execution_count": 7,
     "metadata": {},
     "output_type": "execute_result"
    }
   ],
   "source": [
    "float('inf')"
   ]
  },
  {
   "cell_type": "code",
   "execution_count": 8,
   "metadata": {},
   "outputs": [],
   "source": [
    "# the above is too slow... at O(n^2) - what if the array was first sorted? Also remove any duplicates..."
   ]
  },
  {
   "cell_type": "code",
   "execution_count": 20,
   "metadata": {},
   "outputs": [
    {
     "name": "stdout",
     "output_type": "stream",
     "text": [
      "3\n",
      "0\n"
     ]
    },
    {
     "data": {
      "text/plain": [
       "3"
      ]
     },
     "execution_count": 20,
     "metadata": {},
     "output_type": "execute_result"
    }
   ],
   "source": [
    "arr = [3, -7, 0]\n",
    "minimumAbsoluteDifference(arr)"
   ]
  },
  {
   "cell_type": "code",
   "execution_count": 32,
   "metadata": {},
   "outputs": [],
   "source": [
    "def minimumAbsoluteDifference(arr):\n",
    "    least = max(max(arr), min(arr) * -1) * 2\n",
    "    print(least)\n",
    "    arr = sorted(arr)\n",
    "    print(arr)\n",
    "    \n",
    "    for i in range(0, math.ceil(len(arr) / 2)):\n",
    "        print('-----------')\n",
    "    \n",
    "        f = abs(arr[i] - arr[i + 1])\n",
    "        print('f',arr[i], arr[i + 1])\n",
    "    \n",
    "        b = abs(arr[-(i + 1)] - arr[-(i + 2)])\n",
    "        print('b',arr[-(i + 1)],arr[-(i + 2)])\n",
    "    \n",
    "        if (least > min(f, b)):\n",
    "    \n",
    "            least = min(f, b)\n",
    "    \n",
    "            if (least == 0):\n",
    "    \n",
    "                return 0\n",
    "    \n",
    "    return least"
   ]
  },
  {
   "cell_type": "raw",
   "metadata": {},
   "source": [
    "This could also have been done looking at consecutive values of the sorted list. After it is sorted we can consider on ly the consecutive values as they will be the closest."
   ]
  },
  {
   "cell_type": "code",
   "execution_count": 34,
   "metadata": {},
   "outputs": [
    {
     "name": "stdout",
     "output_type": "stream",
     "text": [
      "18\n",
      "[-7, 0, 3, 3.1, 3.2, 3.3, 9]\n",
      "-----------\n",
      "f -7 0\n",
      "b 9 3.3\n",
      "-----------\n",
      "f 0 3\n",
      "b 3.3 3.2\n",
      "-----------\n",
      "f 3 3.1\n",
      "b 3.2 3.1\n",
      "-----------\n",
      "f 3.1 3.2\n",
      "b 3.1 3\n"
     ]
    },
    {
     "data": {
      "text/plain": [
       "0.09999999999999964"
      ]
     },
     "execution_count": 34,
     "metadata": {},
     "output_type": "execute_result"
    }
   ],
   "source": [
    "arr = [3, -7, 0,3.1, 3.2, 3.3, 9]\n",
    "minimumAbsoluteDifference(arr)"
   ]
  },
  {
   "cell_type": "markdown",
   "metadata": {},
   "source": [
    "# Greedy Florist"
   ]
  },
  {
   "cell_type": "raw",
   "metadata": {},
   "source": [
    "A group of friends want to buy a bouquet of flowers. The florist wants to maximize his number of new customers and the money he makes. To do this, he decides he'll multiply the price of each flower by the number of that customer's previously purchased flowers plus 1. The first flower will be original price, (0+1)* original price, the next will be\n",
    "(1+1)*original price\n",
    "and so on.\n",
    "\n",
    "Given the size of the group of friends, the number of flowers they want to purchase and the original prices of the flowers, determine the minimum cost to purchase all of the flowers.\n",
    "\n",
    "For example, if there are k=3 friends that want to buy n=4 flowers that cost c=[1,2,3,4] each will buy one of the flowers priced [2,3,4] at the original price. Having each purchased x=1 flower, the first flower in the list, c[0] , will now cost (current purchase + previous purchase)*c[0] = (1+1)*1 = 2. The total cost will be 2+3+4+2 = 11. "
   ]
  },
  {
   "cell_type": "raw",
   "metadata": {},
   "source": [
    "Complete the getMinimumCost function in the editor below. It should return the minimum cost to purchase all of the flowers.\n",
    "\n",
    "getMinimumCost has the following parameter(s):\n",
    "\n",
    "    c: an array of integers representing the original price of each flower\n",
    "    k: an integer, the number of friends\n",
    "    \n",
    "    n: number of flowers (len of input array)\n",
    "\n",
    "Constraints :\n",
    "-- 1 <= n,k <= 100\n",
    "-- a <= c[i] <= 1e6\n",
    "-- answer < 2e31\n",
    "-- 0 <= i <= n"
   ]
  },
  {
   "cell_type": "raw",
   "metadata": {},
   "source": [
    "ouput = minimum cost to buy all n flowers"
   ]
  },
  {
   "cell_type": "raw",
   "metadata": {},
   "source": [
    "Thoughts:\n",
    "- the first flower chosen for each person would be the most expensive one (since there is a multiplier on all others that follow)\n",
    "- cycle through all people in group and flowers choosing the most expensicve first for each - sum it up.\n",
    "- must keep track of the number of flowers purchased per person"
   ]
  },
  {
   "cell_type": "code",
   "execution_count": 67,
   "metadata": {},
   "outputs": [],
   "source": [
    "def getMinimumCost(k, c):\n",
    "    # initialize ouput\n",
    "    total = 0\n",
    "    # initialize the count_purchased dict for each person in group\n",
    "    count_purchased = dict()\n",
    "    for i in range(k):\n",
    "        count_purchased[i]=0\n",
    "    \n",
    "    c = sorted(c)[::-1]\n",
    "    for i,price in enumerate(c):\n",
    "        # cycle through the k people in the group\n",
    "        print(i%k)\n",
    "        total+=(count_purchased[i%k]+1)*price\n",
    "        count_purchased[i%k]+=1\n",
    "        \n",
    "    return total"
   ]
  },
  {
   "cell_type": "code",
   "execution_count": 68,
   "metadata": {},
   "outputs": [
    {
     "name": "stdout",
     "output_type": "stream",
     "text": [
      "0\n",
      "1\n",
      "0\n"
     ]
    },
    {
     "data": {
      "text/plain": [
       "15"
      ]
     },
     "execution_count": 68,
     "metadata": {},
     "output_type": "execute_result"
    }
   ],
   "source": [
    "k = 2\n",
    "c = [2,5,6]\n",
    "getMinimumCost(k, c)"
   ]
  },
  {
   "cell_type": "markdown",
   "metadata": {},
   "source": [
    "# Max Min"
   ]
  },
  {
   "cell_type": "raw",
   "metadata": {},
   "source": [
    "You will be given a list of integers, arr, and a single integer k. You must create an array of length k from elements of arr such that its unfairness is minimized. Call that array arr'. Unfairness of an array is calculated as max(arr') min(arr')\n",
    "\n",
    "Where:\n",
    "- max denotes the largest integer in arr'\n",
    "- min denotes the smallest integer in arr'\n",
    "\n",
    "There may be ties!"
   ]
  },
  {
   "cell_type": "raw",
   "metadata": {},
   "source": [
    "Complete the maxMin function in the editor below.\n",
    "maxMin has the following parameter(s):\n",
    "\n",
    "    int k: the number of elements to select\n",
    "    int arr[n]:: an array of integers\n",
    "\n",
    "return the integer representing the minimum possible unfairness (of all combos)\n",
    "\n",
    "Constraints:\n",
    "2<=n<=1e5\n",
    "2<=k<=n\n",
    "0<=arr[i]<=1e9"
   ]
  },
  {
   "cell_type": "raw",
   "metadata": {},
   "source": [
    "Thoughts:\n",
    "- must choose sets of k size where the max and min of that set are as small as possible.\n",
    "- we need to be able to look up and find sorted neighbors for max and min\n",
    "- does k even matter if the choices are such that they don't effect min or max?"
   ]
  },
  {
   "cell_type": "code",
   "execution_count": null,
   "metadata": {},
   "outputs": [],
   "source": [
    "# realizing the answer is in the CONSECUTIVE set fo the sorted arr is the key"
   ]
  },
  {
   "cell_type": "code",
   "execution_count": 69,
   "metadata": {},
   "outputs": [],
   "source": [
    "def maxMin(k, arr):\n",
    "    arr.sort()\n",
    "    return min([arr[x+k-1]-arr[x] for x in range(n-k+1)])"
   ]
  },
  {
   "cell_type": "markdown",
   "metadata": {},
   "source": [
    "# Luck Balance"
   ]
  },
  {
   "cell_type": "raw",
   "metadata": {},
   "source": [
    "Lena is preparing for an important coding competition that is preceded by a number of sequential preliminary contests. Initially, her luck balance is 0. She believes in \"saving luck\", and wants to check her theory. Each contest is described by two integers, L[i] and T[i]\n",
    "\n",
    "L[i] is the amount of luck associated with a contest. If Lena wins the contest, her luck balance will decrease by L[i]; if she loses it, her luck balance will increase by\n",
    "L[i].\n",
    "T[i] denotes the contest's importance rating. It's equal to 1 if the contest is important, and it's equal to 0 if it's unimportant.\n",
    "\n",
    "If Lena loses no more than k important contests, what is the maximum amount of luck she can have after competing in all the preliminary contests? This value may be negative."
   ]
  },
  {
   "cell_type": "code",
   "execution_count": 1,
   "metadata": {},
   "outputs": [],
   "source": [
    "def luckBalance(k, contests):\n",
    "    # sort from greatest luck to least luck\n",
    "    contests.sort(reverse=True)\n",
    "    luck = 0\n",
    "\n",
    "    for contest in contests:\n",
    "        if contest[1] == 0:\n",
    "            luck += contest[0]\n",
    "        elif k > 0:\n",
    "            luck += contest[0]\n",
    "            k -= 1\n",
    "        else:\n",
    "            luck -= contest[0]\n",
    "\n",
    "    return luck"
   ]
  },
  {
   "cell_type": "markdown",
   "metadata": {},
   "source": [
    "# Reverse Shuffle Merge"
   ]
  },
  {
   "cell_type": "code",
   "execution_count": null,
   "metadata": {},
   "outputs": [],
   "source": []
  }
 ],
 "metadata": {
  "kernelspec": {
   "display_name": "Python 3",
   "language": "python",
   "name": "python3"
  },
  "language_info": {
   "codemirror_mode": {
    "name": "ipython",
    "version": 3
   },
   "file_extension": ".py",
   "mimetype": "text/x-python",
   "name": "python",
   "nbconvert_exporter": "python",
   "pygments_lexer": "ipython3",
   "version": "3.7.3"
  }
 },
 "nbformat": 4,
 "nbformat_minor": 4
}
