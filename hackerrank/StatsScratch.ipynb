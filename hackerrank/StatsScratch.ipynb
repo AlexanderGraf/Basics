{
 "cells": [
  {
   "cell_type": "markdown",
   "metadata": {},
   "source": [
    "# Statistics"
   ]
  },
  {
   "cell_type": "markdown",
   "metadata": {},
   "source": [
    "# Mean, Median and Mode"
   ]
  },
  {
   "cell_type": "code",
   "execution_count": null,
   "metadata": {},
   "outputs": [],
   "source": [
    "from collections import Counter"
   ]
  },
  {
   "cell_type": "code",
   "execution_count": 10,
   "metadata": {},
   "outputs": [],
   "source": [
    "arr = [1,4,3,5,6,6,7,8,8,3]"
   ]
  },
  {
   "cell_type": "code",
   "execution_count": 17,
   "metadata": {},
   "outputs": [
    {
     "name": "stdin",
     "output_type": "stream",
     "text": [
      " 10\n",
      " 1 4 3 5 6 6 7 8 8 3\n"
     ]
    },
    {
     "name": "stdout",
     "output_type": "stream",
     "text": [
      "5.1\n",
      "5.5\n",
      "3\n"
     ]
    }
   ],
   "source": [
    "n = int(input())\n",
    "arr = input()\n",
    "arr = list([int(x) for x in arr.split(' ')])\n",
    "\n",
    "mean = 0\n",
    "for i in arr:\n",
    "    mean+=i\n",
    "print(mean/float(n))\n",
    "\n",
    "arr = sorted(arr)\n",
    "mid_idx = n//2\n",
    "if n%2 == 0:\n",
    "    median = (arr[mid_idx-1]+arr[mid_idx])/2.\n",
    "else:\n",
    "    median = arr[mid_idx]\n",
    "print(median)\n",
    "\n",
    "counts = Counter(arr)\n",
    "mode = counts.most_common()[0][0] # deals with multimodal ties by choosing the smallest as requested\n",
    "print(mode)"
   ]
  },
  {
   "cell_type": "markdown",
   "metadata": {},
   "source": [
    "# Interquartile Range"
   ]
  },
  {
   "cell_type": "code",
   "execution_count": 69,
   "metadata": {},
   "outputs": [
    {
     "name": "stdin",
     "output_type": "stream",
     "text": [
      " 4\n",
      " 1 2 3 4\n",
      " 1 1 1 1\n"
     ]
    },
    {
     "name": "stdout",
     "output_type": "stream",
     "text": [
      "2.0\n"
     ]
    }
   ],
   "source": [
    "n = int(input())\n",
    "_ = input()\n",
    "arr_ = [int(x) for x in _.split(' ')]\n",
    "_ = input()\n",
    "freqs = [int(x) for x in _.split(' ')]\n",
    "arr = []\n",
    "for i in range(len(freqs)):\n",
    "    arr.extend([arr_[i]]*freqs[i])\n",
    "    \n",
    "arr = sorted(arr)\n",
    "l = len(arr)\n",
    "# must spplit lower and upper properly depending on if the length is even or odd\n",
    "if l%2 == 0:\n",
    "    lower = arr[:l//2]\n",
    "    upper = arr[l//2:]  \n",
    "else:\n",
    "    lower = arr[:l//2]\n",
    "    lower.append((arr[l//2-1]+arr[l//2])/2.)\n",
    "    upper = arr[l//2+1:]\n",
    "    upper.append((arr[l//2]+arr[l//2+1])/2.)\n",
    "    upper = sorted(upper)\n",
    "\n",
    "q = []\n",
    "for i in [lower,upper]:\n",
    "    l = len(i)\n",
    "    idx = l//2\n",
    "    if l%2==0:\n",
    "        _ = (i[idx-1]+i[idx])/2\n",
    "        q.append(_)\n",
    "    else:\n",
    "        # no averages needed pick elements of directly\n",
    "        _ = i[idx]\n",
    "        q.append(_)\n",
    "        \n",
    "iqr = q[1]-q[0]\n",
    "print(iqr)"
   ]
  },
  {
   "cell_type": "code",
   "execution_count": null,
   "metadata": {},
   "outputs": [],
   "source": [
    "6 12 8 10 20 16 15\n",
    "5 4 3 2 1 5 1"
   ]
  },
  {
   "cell_type": "code",
   "execution_count": 70,
   "metadata": {},
   "outputs": [
    {
     "data": {
      "text/plain": [
       "([1, 2], [3, 4])"
      ]
     },
     "execution_count": 70,
     "metadata": {},
     "output_type": "execute_result"
    }
   ],
   "source": [
    "lower, upper"
   ]
  },
  {
   "cell_type": "code",
   "execution_count": 66,
   "metadata": {},
   "outputs": [
    {
     "data": {
      "text/plain": [
       "[1, 2, 2.5]"
      ]
     },
     "execution_count": 66,
     "metadata": {},
     "output_type": "execute_result"
    }
   ],
   "source": [
    "lower"
   ]
  },
  {
   "cell_type": "code",
   "execution_count": 67,
   "metadata": {},
   "outputs": [
    {
     "data": {
      "text/plain": [
       "[3.5, 4, 5]"
      ]
     },
     "execution_count": 67,
     "metadata": {},
     "output_type": "execute_result"
    }
   ],
   "source": [
    "upper"
   ]
  },
  {
   "cell_type": "code",
   "execution_count": 68,
   "metadata": {},
   "outputs": [
    {
     "data": {
      "text/plain": [
       "[2, 4]"
      ]
     },
     "execution_count": 68,
     "metadata": {},
     "output_type": "execute_result"
    }
   ],
   "source": [
    "q"
   ]
  },
  {
   "cell_type": "code",
   "execution_count": null,
   "metadata": {},
   "outputs": [],
   "source": []
  }
 ],
 "metadata": {
  "kernelspec": {
   "display_name": "Python 3",
   "language": "python",
   "name": "python3"
  },
  "language_info": {
   "codemirror_mode": {
    "name": "ipython",
    "version": 3
   },
   "file_extension": ".py",
   "mimetype": "text/x-python",
   "name": "python",
   "nbconvert_exporter": "python",
   "pygments_lexer": "ipython3",
   "version": "3.7.3"
  }
 },
 "nbformat": 4,
 "nbformat_minor": 4
}
