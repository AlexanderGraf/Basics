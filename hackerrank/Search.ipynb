{
 "cells": [
  {
   "cell_type": "markdown",
   "metadata": {},
   "source": [
    "# Hash Tables : Ice Cream Parlor"
   ]
  },
  {
   "cell_type": "raw",
   "metadata": {},
   "source": [
    "Each time Sunny and Johnny take a trip to the Ice Cream Parlor, they pool their money to buy ice cream. On any given day, the parlor offers a line of flavors. Each flavor has a cost associated with it.\n",
    "\n",
    "Given the value of 'money' and the 'cost' of each flavor for 't' trips to the Ice Cream Parlor, help Sunny and Johnny choose two distinct flavors such that they spend their entire pool of money during each visit. ID numbers are the 1- based index number associated with a 'cost'. For each trip to the parlor, print the ID numbers for the two types of ice cream that Sunny and Johnny purchase as two space-separated integers on a new line. You must print the smaller ID first and the larger ID second.\n",
    "\n",
    "For example, there are n=5 flavors having 'cost'=[2,1,3,5,6]. Together they have 'money'=5 to spend. They would purchase flavor ID's 1 and 3 for a cost of 2+3=5. Use\n",
    "1 based indexing for your response.\n",
    "\n",
    "Note:\n",
    "\n",
    "    * Two ice creams having unique IDs i and j, may have the same cost (i.e., 'cost'[i] ='cost'[j]).\n",
    "    * There will always be a unique solution.\n",
    "\n",
    "Function Description\n",
    "\n",
    "Complete the function whatFlavors in the editor below. It must determine the two flavors they will purchase and print them as two space-separated integers on a line.\n",
    "\n",
    "whatFlavors has the following parameter(s):\n",
    "\n",
    "    * cost: an array of integers representing price for a flavor\n",
    "    * money: an integer representing the amount of money they have to spend\n",
    "\n",
    "Input Format\n",
    "\n",
    "The first line contains an integer, 't', the number of trips to the ice cream parlor.\n",
    "\n",
    "Each of the next 't' sets of 3 lines is as follows:\n",
    "\n",
    "    * The first line contains 'money'\n",
    "    * The second line contains an integer, 'n', the size of the array 'cost'\n",
    "    * The third line contains 'n' space-separated integers denoting the cost[i]\n",
    "\n",
    "Constraints\n",
    "* 1<=t<=50\n",
    "* 2<=money<=10^9\n",
    "* 2<=n<=5x10^4\n",
    "* 1<=cost[i]<=10^9\n",
    "\n",
    "Output Format\n",
    "\n",
    "Print two space-separated integers denoting the respective indices for the two distinct flavors they choose to purchase in ascending order. Recall that each ice cream flavor has a unique ID number in the inclusive range from 1 to |cost|."
   ]
  },
  {
   "cell_type": "code",
   "execution_count": 12,
   "metadata": {},
   "outputs": [
    {
     "name": "stdout",
     "output_type": "stream",
     "text": [
      "[[1, 1]]\n"
     ]
    }
   ],
   "source": [
    "target = 4\n",
    "numbers = [2,2,4,3]\n",
    "hashTable = Counter(cost)\n",
    "\n",
    "indices = {}\n",
    "for i, n in enumerate(numbers):\n",
    "    if ((target - n) in hashTable and hashTable[target - n] == None):\n",
    "        hashTable[target - n] = n\n",
    "    else:\n",
    "        hashTable[n] = None\n",
    "    indices[n] = i\n",
    "\n",
    "results = [[indices[k], indices[v]] for k, v in hashTable.items() if v != None]\n",
    "print(results)"
   ]
  },
  {
   "cell_type": "code",
   "execution_count": 1,
   "metadata": {},
   "outputs": [],
   "source": [
    "from collections import Counter"
   ]
  },
  {
   "cell_type": "code",
   "execution_count": 93,
   "metadata": {},
   "outputs": [],
   "source": [
    "def whatFlavors(cost, money):\n",
    "    saved = {}\n",
    "    for i,n in enumerate(cost):\n",
    "        if money-n in saved:\n",
    "            return saved[money-n], i+1\n",
    "        saved[n] = i+1 # saves the index\n",
    "        print(saved)"
   ]
  },
  {
   "cell_type": "code",
   "execution_count": 94,
   "metadata": {},
   "outputs": [
    {
     "name": "stdout",
     "output_type": "stream",
     "text": [
      "{2: 1}\n",
      "1 2\n"
     ]
    }
   ],
   "source": [
    "cost = [2,2,4,3]\n",
    "money = 4\n",
    "#cost = [1,4,5,3,2]\n",
    "#money = 4\n",
    "print((' ').join([str(x) for x in whatFlavors(cost, money)]))"
   ]
  },
  {
   "cell_type": "markdown",
   "metadata": {},
   "source": [
    "# Swap Nodes"
   ]
  },
  {
   "cell_type": "raw",
   "metadata": {},
   "source": [
    "A binary tree is a tree which is characterized by one of the following properties:\n",
    "\n",
    "    * It can be empty (null).\n",
    "    * It contains a root node only.\n",
    "    * It contains a root node with a left subtree, a right subtree, or both. These subtrees are also binary trees.\n",
    "\n",
    "In-order traversal is performed as\n",
    "\n",
    "    * Traverse the left subtree.\n",
    "    * Visit root.\n",
    "    * Traverse the right subtree.\n",
    "\n",
    "For this in-order traversal, start from the left child of the root node and keep exploring the left subtree until you reach a leaf. When you reach a leaf, back up to its parent, check for a right child and visit it if there is one. If there is not a child, you've explored its left and right subtrees fully. If there is a right child, traverse its left subtree then its right in the same manner. Keep doing this until you have traversed the entire tree. You will only store the values of a node as you visit when one of the following is true:\n",
    "\n",
    "    * it is the first node visited, the first time visited\n",
    "    * it is a leaf, should only be visited once\n",
    "    * all of its subtrees have been explored, should only be visited once while this is true\n",
    "    * it is the root of the tree, the first time visited\n",
    "\n",
    "Swapping: Swapping subtrees of a node means that if initially node has left subtree L and right subtree R, then after swapping, the left subtree will be R and the right subtree, L.\n",
    "\n",
    "(image in example missing - see Hacker Rank)\n",
    "\n",
    "Swap operation:\n",
    "\n",
    "We define depth of a node as follows:\n",
    "\n",
    "    * The root node is at depth 1.\n",
    "    * If the depth of the parent node is d, then the depth of current node will be d+1.\n",
    "\n",
    "Given a tree and an integer, k, in one operation, we need to swap the subtrees of all the nodes at each depth h, where h ∈ [k, 2k, 3k,...]. In other words, if h is a multiple of k, swap the left and right subtrees of that level.\n",
    "\n",
    "You are given a tree of n nodes where nodes are indexed from [1..n] and it is rooted at 1. You have to perform t swap operations on it, and after each swap operation print the in-order traversal of the current state of the tree.\n",
    "\n",
    "Function Description\n",
    "\n",
    "Complete the swapNodes function in the editor below. It should return a two-dimensional array where each element is an array of integers representing the node indices of an in-order traversal after a swap operation.\n",
    "\n",
    "swapNodes has the following parameter(s):\n",
    "- indexes: an array of integers representing index values of each node[i], beginning with node[1], the first element, as the root.\n",
    "- queries: an array of integers, each representing a k value.\n",
    "\n",
    "Input Format\n",
    "The first line contains n, number of nodes in the tree.\n",
    "\n",
    "Each of the next n lines contains two integers, a b, where a is the index of left child, and b is the index of right child of ith node. \n",
    "\n",
    "Note: -1 is used to represent a null node.\n",
    "\n",
    "The next line contains an integer, t, the size of \"queries\".\n",
    "Each of the next t lines contains an integer \"queries[i]\", each being a value \"k\".\n",
    "\n",
    "Output Format\n",
    "For each k, perform the swap operation and store the indices of your in-order traversal to your result array. After all swap operations have been performed, return your result array for printing. \n",
    "\n",
    "Constraints\n",
    "1<=n<=1024\n",
    "1<=t<=100\n",
    "1<=k<=n\n",
    "Either a=-1 or 2<=a<=n\n",
    "Either b=-1 or 2<=b<=n\n",
    "The index of a non-null child will always be greater than it's parents\n"
   ]
  },
  {
   "cell_type": "code",
   "execution_count": null,
   "metadata": {},
   "outputs": [],
   "source": []
  },
  {
   "cell_type": "markdown",
   "metadata": {},
   "source": [
    "# Pairs"
   ]
  },
  {
   "cell_type": "code",
   "execution_count": 114,
   "metadata": {},
   "outputs": [],
   "source": [
    "def pairs(k, arr):\n",
    "    saved = Counter(arr)\n",
    "    count = 0\n",
    "    print(saved)\n",
    "    for i,val in enumerate(arr):\n",
    "        key = k+val\n",
    "        if key in saved:\n",
    "            if saved[key]>0:\n",
    "                for j in range(saved[key]):\n",
    "                    count+=1\n",
    "                    saved[key]-=1\n",
    "                    #print((key,val))\n",
    "    return count"
   ]
  },
  {
   "cell_type": "code",
   "execution_count": 116,
   "metadata": {},
   "outputs": [
    {
     "name": "stdout",
     "output_type": "stream",
     "text": [
      "Counter({1: 2, 5: 2, 3: 1, 4: 1, 2: 1})\n",
      "(3, 1)\n",
      "(5, 3)\n",
      "(5, 3)\n",
      "(4, 2)\n"
     ]
    },
    {
     "data": {
      "text/plain": [
       "4"
      ]
     },
     "execution_count": 116,
     "metadata": {},
     "output_type": "execute_result"
    }
   ],
   "source": [
    "arr = [1, 1, 5, 5, 3, 4, 2]\n",
    "k = 2\n",
    "pairs(k,arr)"
   ]
  },
  {
   "cell_type": "markdown",
   "metadata": {},
   "source": [
    "# Triple Sum"
   ]
  },
  {
   "cell_type": "code",
   "execution_count": 118,
   "metadata": {},
   "outputs": [],
   "source": [
    "def triplets(a, b, c):\n",
    "    a = list(sorted(set(a)))\n",
    "    b = list(sorted(set(b)))\n",
    "    c = list(sorted(set(c)))\n",
    "    \n",
    "    ai = 0\n",
    "    bi = 0\n",
    "    ci = 0\n",
    "    \n",
    "    ans = 0\n",
    "    \n",
    "    while bi < len(b):\n",
    "        while ai < len(a) and a[ai] <= b[bi]:\n",
    "            ai += 1\n",
    "        \n",
    "        while ci < len(c) and c[ci] <= b[bi]:\n",
    "            ci += 1\n",
    "        \n",
    "        ans += ai * ci\n",
    "        bi += 1\n",
    "    \n",
    "    return ans"
   ]
  },
  {
   "cell_type": "markdown",
   "metadata": {},
   "source": [
    "# Minimum Time Required"
   ]
  },
  {
   "cell_type": "code",
   "execution_count": null,
   "metadata": {},
   "outputs": [],
   "source": [
    "def minTime(machines, goal):\n",
    "\n",
    "    machines.sort()\n",
    "\n",
    "    low_rate = machines[0]\n",
    "    lower_bound = (goal // (len(machines) / low_rate))\n",
    "    high_rate = machines[-1]\n",
    "    upper_bound = (goal // (len(machines) / high_rate)) + 1\n",
    "\n",
    "    while lower_bound < upper_bound:\n",
    "\n",
    "        num_days = (lower_bound + upper_bound) // 2\n",
    "        total = getNumItems(machines, goal, num_days)\n",
    "        if total >= goal:\n",
    "            upper_bound = num_days\n",
    "        else:\n",
    "            lower_bound = num_days + 1\n",
    "\n",
    "    return int(lower_bound)\n",
    "\n",
    "\n",
    "def getNumItems(machines, goal, num_days):\n",
    "\n",
    "    total = 0\n",
    "\n",
    "    for machine in machines:\n",
    "        total += (num_days // machine)\n",
    "\n",
    "    return total\n"
   ]
  }
 ],
 "metadata": {
  "kernelspec": {
   "display_name": "Python 3",
   "language": "python",
   "name": "python3"
  },
  "language_info": {
   "codemirror_mode": {
    "name": "ipython",
    "version": 3
   },
   "file_extension": ".py",
   "mimetype": "text/x-python",
   "name": "python",
   "nbconvert_exporter": "python",
   "pygments_lexer": "ipython3",
   "version": "3.7.3"
  }
 },
 "nbformat": 4,
 "nbformat_minor": 4
}
